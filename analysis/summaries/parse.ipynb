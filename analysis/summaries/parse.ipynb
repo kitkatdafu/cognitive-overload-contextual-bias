{
 "cells": [
  {
   "cell_type": "code",
   "execution_count": 65,
   "metadata": {},
   "outputs": [],
   "source": [
    "import numpy as np\n",
    "from scipy.io import loadmat"
   ]
  },
  {
   "cell_type": "code",
   "execution_count": 66,
   "metadata": {},
   "outputs": [],
   "source": [
    "for m in range(2, 9):\n",
    "    for dataset in ['dogs3', 'birds5']:\n",
    "        if dataset == \"dogs3\":\n",
    "            n = 473\n",
    "            K = 3\n",
    "            clusters = [\n",
    "                list(range(0, 172)),\n",
    "                list(range(172, 322)),\n",
    "                list(range(322, 473)),\n",
    "            ]\n",
    "        else:\n",
    "            n = 342\n",
    "            K = 6\n",
    "            clusters = [\n",
    "                list(range(0, 60)),\n",
    "                list(range(60, 120)),\n",
    "                list(range(120, 178)),\n",
    "                list(range(178, 235)),\n",
    "                list(range(235, 292)),\n",
    "                list(range(292, 342)),\n",
    "            ]\n",
    "        adj_mat = loadmat(f'../mats/sd-rq-wp-{m}-{dataset}-2023.mat')['adjacency_matrix']\n",
    "        obs_mat = loadmat(f'../mats/sd-rq-wp-{m}-{dataset}-2023.mat')['observation_matrix']\n",
    "\n",
    "        P = np.zeros((K, K), dtype=float)\n",
    "        O = np.zeros((K, K), dtype=int)\n",
    "        for i, cluster_i in enumerate(clusters):\n",
    "            for j, cluster_j in enumerate(clusters):\n",
    "                num_ones = (adj_mat[cluster_i][:, cluster_j] == 1).sum()\n",
    "                num_observed = obs_mat[cluster_i][:, cluster_j].sum()\n",
    "                P[i, j] = num_ones / num_observed\n",
    "                O[i, j] = num_observed \n",
    "                O[i, j] -= len(cluster_i) if i == j else 0\n",
    "        \n",
    "        np.save(f'{m}-{dataset}-edge_density.npy', P)\n",
    "        np.save(f'{m}-{dataset}-edge_observe.npy', O)"
   ]
  }
 ],
 "metadata": {
  "kernelspec": {
   "display_name": "base",
   "language": "python",
   "name": "python3"
  },
  "language_info": {
   "codemirror_mode": {
    "name": "ipython",
    "version": 3
   },
   "file_extension": ".py",
   "mimetype": "text/x-python",
   "name": "python",
   "nbconvert_exporter": "python",
   "pygments_lexer": "ipython3",
   "version": "3.11.5"
  }
 },
 "nbformat": 4,
 "nbformat_minor": 2
}
