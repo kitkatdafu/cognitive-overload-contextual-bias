{
 "cells": [
  {
   "cell_type": "code",
   "execution_count": 19,
   "id": "a5060b46-00da-4547-a68e-1610ae6985d7",
   "metadata": {},
   "outputs": [],
   "source": [
    "from sklearn.metrics import confusion_matrix\n",
    "from collections import defaultdict\n",
    "import matplotlib.pyplot as plt\n",
    "import numpy as np\n",
    "import pandas as pd\n",
    "import json\n",
    "import seaborn as sns\n",
    "\n",
    "%matplotlib inline\n",
    "\n",
    "\n",
    "plt.rcParams[\"font.family\"] = \"Palatino\"\n",
    "plt.rcParams[\"font.weight\"] = \"bold\"\n",
    "plt.rcParams[\"axes.labelweight\"] = \"bold\"\n",
    "\n",
    "label_size = 22 + 2\n",
    "tick_size = 20 + 2\n",
    "title_size = 24 + 2\n",
    "legend_size = 22 + 2"
   ]
  },
  {
   "cell_type": "code",
   "execution_count": 20,
   "id": "e1b07baa-bb3f-4953-bfe8-fbcad9762d4b",
   "metadata": {},
   "outputs": [],
   "source": [
    "experiments = [\n",
    "    'lt-at',\n",
    "    'lt-ct',\n",
    "    'lt-al',\n",
    "    'lt-ca',\n",
    "    'at-ct',\n",
    "    'at-al',\n",
    "    'at-ca'\n",
    "]\n",
    "al = set(range(0, 24))\n",
    "lt = set(range(24, 63))\n",
    "at = set(range(63, 89))\n",
    "ca = set(range(89, 127))\n",
    "ct = set(range(127, 147))\n",
    "\n",
    "cluster_name_to_cluster_id = {\n",
    "    'lt': 0,\n",
    "    'at': 1,\n",
    "    'al': 2,\n",
    "    'ca': 3,\n",
    "    'ct': 4\n",
    "}\n",
    "\n",
    "clusters = [lt, at, al, ca, ct]\n",
    "cluster_str = ['lt', 'at', 'al', 'ca', 'ct']\n",
    "image_id_to_cluster_id = {}\n",
    "image_id_to_cluster_str = {}\n",
    "for cluster_id, cluster in enumerate(clusters):\n",
    "    for image_id in cluster:\n",
    "        image_id_to_cluster_id[image_id] = cluster_id\n",
    "        image_id_to_cluster_str[image_id] = cluster_str[cluster_id]"
   ]
  },
  {
   "cell_type": "code",
   "execution_count": 21,
   "id": "ea139b0b-15f2-49b5-a999-4808cecd3402",
   "metadata": {},
   "outputs": [
    {
     "name": "stdout",
     "output_type": "stream",
     "text": [
      "\"lt-at\": 0.028396009109262755,\n",
      "\"lt-ct\": 0.02855533938526046,\n",
      "\"lt-al\": 0.018761663039293715,\n",
      "\"lt-ca\": 0.013711309200802092,\n",
      "\"at-ct\": 0.0244191788620399,\n",
      "\"at-al\": 0.023515952032609696,\n",
      "\"at-ca\": 0.016795061002392163,\n"
     ]
    }
   ],
   "source": [
    "np.random.seed(42)\n",
    "\n",
    "for exp_idx, exp in enumerate(experiments):\n",
    "    M = np.zeros((5, 5))\n",
    "\n",
    "    y_true = []\n",
    "    y_pred = []\n",
    "    counter = defaultdict(list)\n",
    "\n",
    "    with open(f\"data/{exp}.json\", \"r\") as fp:\n",
    "        data = json.load(fp)\n",
    "        for worker in data:\n",
    "            for answer in worker[\"answer\"]:\n",
    "                if \"feedback\" in answer or answer[\"questionNum\"] == 0:\n",
    "                    continue\n",
    "                worker_ans = 0 if \"NOT\" in answer[\"clusters\"] else 1\n",
    "                image_a = answer[\"originalOrder\"][0][\"imageId\"]\n",
    "                image_b = answer[\"originalOrder\"][1][\"imageId\"]\n",
    "                counter[\n",
    "                    (image_id_to_cluster_id[image_a], image_id_to_cluster_id[image_b])\n",
    "                ].append(len(y_true))\n",
    "                true_ans = int(\n",
    "                    image_id_to_cluster_id[image_a] == image_id_to_cluster_id[image_b]\n",
    "                )\n",
    "                M[\n",
    "                    image_id_to_cluster_id[image_a], image_id_to_cluster_id[image_b]\n",
    "                ] += worker_ans\n",
    "                y_true.append(true_ans)\n",
    "                y_pred.append(worker_ans)\n",
    "    y_true = np.array(y_true)\n",
    "    y_pred = np.array(y_pred)\n",
    "    cluster_ids = list(map(lambda x: cluster_name_to_cluster_id[x], exp.split(\"-\")))\n",
    "    M = M[cluster_ids][:, cluster_ids]\n",
    "\n",
    "    a = y_pred[y_true == 0]\n",
    "    std = np.sqrt(np.mean((a - np.mean(a)) ** 2) / 300)\n",
    "    print(f'\"{exp}\": {std},')\n",
    "\n",
    "    # print(\n",
    "    #     f\"{exp} & {y_pred[y_true == 0].mean():.3f} $\\\\pm$ {std:.3f} \\\\\\\\\"\n",
    "    # )"
   ]
  },
  {
   "cell_type": "code",
   "execution_count": 22,
   "metadata": {},
   "outputs": [
    {
     "data": {
      "text/plain": [
       "300"
      ]
     },
     "execution_count": 22,
     "metadata": {},
     "output_type": "execute_result"
    }
   ],
   "source": [
    "np.sum(y_true == 0)"
   ]
  }
 ],
 "metadata": {
  "kernelspec": {
   "display_name": "Python 3 (ipykernel)",
   "language": "python",
   "name": "python3"
  },
  "language_info": {
   "codemirror_mode": {
    "name": "ipython",
    "version": 3
   },
   "file_extension": ".py",
   "mimetype": "text/x-python",
   "name": "python",
   "nbconvert_exporter": "python",
   "pygments_lexer": "ipython3",
   "version": "3.11.5"
  }
 },
 "nbformat": 4,
 "nbformat_minor": 5
}
