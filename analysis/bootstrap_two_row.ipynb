{
 "cells": [
  {
   "cell_type": "code",
   "execution_count": 1,
   "metadata": {},
   "outputs": [],
   "source": [
    "import warnings\n",
    "warnings.filterwarnings(\"ignore\", \"is_categorical_dtype\")\n",
    "warnings.filterwarnings(\"ignore\", \"use_inf_as_na\")\n",
    "\n",
    "import pandas as pd\n",
    "import numpy as np\n",
    "import seaborn as sns\n",
    "import matplotlib.pyplot as plt\n",
    "\n",
    "sns.set_style(\"whitegrid\")\n",
    "\n",
    "%matplotlib inline\n",
    "label_size = 22 + 2\n",
    "tick_size = 20 + 2\n",
    "title_size = 24 + 2\n",
    "legend_size = 18\n",
    "\n",
    "plt.rcParams[\"font.family\"] = \"Palatino\"\n",
    "plt.rcParams[\"font.weight\"] = \"bold\"\n",
    "plt.rcParams[\"axes.labelweight\"] = \"bold\""
   ]
  },
  {
   "cell_type": "code",
   "execution_count": 2,
   "metadata": {},
   "outputs": [],
   "source": [
    "np.random.seed(42)\n",
    "\n",
    "pmfs = np.array([[0.152, 0.157, 0.192, 0.424, 0.075],\n",
    "                 [0.048, 0.443, 0.113, 0.112, 0.284],\n",
    "                 [0.030, 0.556, 0.062, 0.086, 0.266]])\n",
    "\n",
    "names = ['lt-at-ct', 'lt-at-al', 'lt-at-ca']\n",
    "\n",
    "boots = {}\n",
    "\n",
    "for i, name in enumerate(names):\n",
    "    observations = np.repeat(np.arange(0, 5), (pmfs[i] * 1000).astype(int))\n",
    "    p_ij_s = []\n",
    "    for _ in range(1000):\n",
    "        subsamples = np.random.choice(observations, 750, replace=True)\n",
    "        subsample_pmfs = np.array([np.sum(subsamples == j) / 750 for j in range(5)])\n",
    "        # p(i, j | i, j, k)\n",
    "        p_ij = subsample_pmfs[[0, 1]].sum()\n",
    "        p_ij_s.append(p_ij)\n",
    "    boots[name] = p_ij_s"
   ]
  },
  {
   "cell_type": "code",
   "execution_count": 3,
   "metadata": {},
   "outputs": [
    {
     "data": {
      "text/html": [
       "<div>\n",
       "<style scoped>\n",
       "    .dataframe tbody tr th:only-of-type {\n",
       "        vertical-align: middle;\n",
       "    }\n",
       "\n",
       "    .dataframe tbody tr th {\n",
       "        vertical-align: top;\n",
       "    }\n",
       "\n",
       "    .dataframe thead th {\n",
       "        text-align: right;\n",
       "    }\n",
       "</style>\n",
       "<table border=\"1\" class=\"dataframe\">\n",
       "  <thead>\n",
       "    <tr style=\"text-align: right;\">\n",
       "      <th></th>\n",
       "      <th>lt-at-ct</th>\n",
       "      <th>lt-at-al</th>\n",
       "      <th>lt-at-ca</th>\n",
       "    </tr>\n",
       "  </thead>\n",
       "  <tbody>\n",
       "    <tr>\n",
       "      <th>0</th>\n",
       "      <td>0.298667</td>\n",
       "      <td>0.496000</td>\n",
       "      <td>0.562667</td>\n",
       "    </tr>\n",
       "    <tr>\n",
       "      <th>1</th>\n",
       "      <td>0.328000</td>\n",
       "      <td>0.524000</td>\n",
       "      <td>0.589333</td>\n",
       "    </tr>\n",
       "    <tr>\n",
       "      <th>2</th>\n",
       "      <td>0.322667</td>\n",
       "      <td>0.517333</td>\n",
       "      <td>0.581333</td>\n",
       "    </tr>\n",
       "    <tr>\n",
       "      <th>3</th>\n",
       "      <td>0.306667</td>\n",
       "      <td>0.502667</td>\n",
       "      <td>0.574667</td>\n",
       "    </tr>\n",
       "    <tr>\n",
       "      <th>4</th>\n",
       "      <td>0.302667</td>\n",
       "      <td>0.501333</td>\n",
       "      <td>0.593333</td>\n",
       "    </tr>\n",
       "    <tr>\n",
       "      <th>...</th>\n",
       "      <td>...</td>\n",
       "      <td>...</td>\n",
       "      <td>...</td>\n",
       "    </tr>\n",
       "    <tr>\n",
       "      <th>995</th>\n",
       "      <td>0.280000</td>\n",
       "      <td>0.494667</td>\n",
       "      <td>0.561333</td>\n",
       "    </tr>\n",
       "    <tr>\n",
       "      <th>996</th>\n",
       "      <td>0.305333</td>\n",
       "      <td>0.494667</td>\n",
       "      <td>0.600000</td>\n",
       "    </tr>\n",
       "    <tr>\n",
       "      <th>997</th>\n",
       "      <td>0.309333</td>\n",
       "      <td>0.497333</td>\n",
       "      <td>0.597333</td>\n",
       "    </tr>\n",
       "    <tr>\n",
       "      <th>998</th>\n",
       "      <td>0.326667</td>\n",
       "      <td>0.486667</td>\n",
       "      <td>0.578667</td>\n",
       "    </tr>\n",
       "    <tr>\n",
       "      <th>999</th>\n",
       "      <td>0.298667</td>\n",
       "      <td>0.505333</td>\n",
       "      <td>0.588000</td>\n",
       "    </tr>\n",
       "  </tbody>\n",
       "</table>\n",
       "<p>1000 rows × 3 columns</p>\n",
       "</div>"
      ],
      "text/plain": [
       "     lt-at-ct  lt-at-al  lt-at-ca\n",
       "0    0.298667  0.496000  0.562667\n",
       "1    0.328000  0.524000  0.589333\n",
       "2    0.322667  0.517333  0.581333\n",
       "3    0.306667  0.502667  0.574667\n",
       "4    0.302667  0.501333  0.593333\n",
       "..        ...       ...       ...\n",
       "995  0.280000  0.494667  0.561333\n",
       "996  0.305333  0.494667  0.600000\n",
       "997  0.309333  0.497333  0.597333\n",
       "998  0.326667  0.486667  0.578667\n",
       "999  0.298667  0.505333  0.588000\n",
       "\n",
       "[1000 rows x 3 columns]"
      ]
     },
     "execution_count": 3,
     "metadata": {},
     "output_type": "execute_result"
    }
   ],
   "source": [
    "boots_df = pd.DataFrame(boots)\n",
    "boots_df"
   ]
  },
  {
   "cell_type": "code",
   "execution_count": 4,
   "metadata": {},
   "outputs": [
    {
     "data": {
      "image/png": "[encoded data removed]",
      "text/plain": [
       "<Figure size 300x300 with 1 Axes>"
      ]
     },
     "metadata": {},
     "output_type": "display_data"
    }
   ],
   "source": [
    "fig, ax = plt.subplots(figsize=(3, 3))\n",
    "sns.boxplot(data=boots_df, ax=ax)\n",
    "ax.set_ylabel(r'$\\textbf{Pr}(lt-at | \\{lt,at,\\star\\})$')\n",
    "fig.savefig('plots/bootstrap_two_row.pdf', bbox_inches='tight')"
   ]
  },
  {
   "cell_type": "code",
   "execution_count": null,
   "metadata": {},
   "outputs": [],
   "source": []
  }
 ],
 "metadata": {
  "kernelspec": {
   "display_name": "base",
   "language": "python",
   "name": "python3"
  },
  "language_info": {
   "codemirror_mode": {
    "name": "ipython",
    "version": 3
   },
   "file_extension": ".py",
   "mimetype": "text/x-python",
   "name": "python",
   "nbconvert_exporter": "python",
   "pygments_lexer": "ipython3",
   "version": "3.11.4"
  },
  "orig_nbformat": 4
 },
 "nbformat": 4,
 "nbformat_minor": 2
}
