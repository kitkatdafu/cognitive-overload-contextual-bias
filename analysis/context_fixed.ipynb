{
 "cells": [
  {
   "cell_type": "code",
   "execution_count": 64,
   "id": "4eadbe15-3a36-4e62-89a0-836cd4e27c1e",
   "metadata": {},
   "outputs": [],
   "source": [
    "import json\n",
    "import pandas as pd\n",
    "import numpy as np\n",
    "from collections import defaultdict\n",
    "from itertools import permutations"
   ]
  },
  {
   "cell_type": "code",
   "execution_count": 65,
   "id": "470488f3-38ca-4887-8caa-74acfde9fc8e",
   "metadata": {},
   "outputs": [],
   "source": [
    "al = set(range(0, 24))\n",
    "lt = set(range(24, 63))\n",
    "at = set(range(63, 89))\n",
    "ca = set(range(89, 127))\n",
    "ct = set(range(127, 147))\n",
    "\n",
    "clusters = [lt, at, al, ca, ct]\n",
    "cluster_str = ['lt', 'at', 'al', 'ca', 'ct']\n",
    "image_id_to_cluster_id = {}\n",
    "image_id_to_cluster_str = {}\n",
    "for cluster_id, cluster in enumerate(clusters):\n",
    "    for image_id in cluster:\n",
    "        image_id_to_cluster_id[image_id] = cluster_id\n",
    "        image_id_to_cluster_str[image_id] = cluster_str[cluster_id]"
   ]
  },
  {
   "cell_type": "code",
   "execution_count": 66,
   "id": "fa884583-a4fd-42c8-a10b-f2ca481143bb",
   "metadata": {},
   "outputs": [],
   "source": [
    "string_answer_to_code = {\n",
    "    'All are Same Species': [1, 1, 1],\n",
    "    'ONLY 1 and 2 are Same Species': [1, 1, 0],\n",
    "    'ONLY 2 and 3 are Same Species': [0, 1, 1],\n",
    "    'ONLY 1 and 3 are Same Species': [1, 0, 1],\n",
    "    'NONE, all are different species': [0, 1, 2]\n",
    "}"
   ]
  },
  {
   "cell_type": "code",
   "execution_count": 67,
   "id": "944f0960-5842-4e67-8847-a943f7f1ba74",
   "metadata": {},
   "outputs": [],
   "source": [
    "exp_name = 'lt_b-at_a-lt_a'"
   ]
  },
  {
   "cell_type": "code",
   "execution_count": 68,
   "id": "690a2276-86ee-4096-9215-bc6ba550408c",
   "metadata": {},
   "outputs": [],
   "source": []
  },
  {
   "cell_type": "code",
   "execution_count": 71,
   "id": "8f2e3897-026d-4915-af76-d7328e7fcbbf",
   "metadata": {},
   "outputs": [],
   "source": [
    "time_per_question = []\n",
    "confusion_matrix = defaultdict(lambda: defaultdict(int))\n",
    "\n",
    "for true_cluster_strs in permutations(exp_name.split(\"-\"), 3):\n",
    "    with open(f'data/{\"-\".join(true_cluster_strs)}.json') as file:\n",
    "        data = json.load(file)\n",
    "    for worker in data:\n",
    "        for answer in worker['answer'][1:-1]:\n",
    "\n",
    "            # time for this question\n",
    "            time_per_question.append(answer['timeElapsed'])\n",
    "\n",
    "            # how items are presented in this question\n",
    "            ordered_image_ids = [item['imageId'] for item in answer['originalOrder']]\n",
    "\n",
    "            worker_answer = answer['clusters']\n",
    "            true_cluster_ids = np.array([image_id_to_cluster_id[image_id] for image_id in ordered_image_ids])\n",
    "            # true_cluster_strs = np.array([image_id_to_cluster_str[image_id] for image_id in ordered_image_ids])\n",
    "            true_cluster_strs = np.array(true_cluster_strs)\n",
    "\n",
    "            # sorted_args = np.argsort(true_cluster_ids)\n",
    "            sorted_args = np.arange(len(true_cluster_ids))\n",
    "            if exp_name == 'lt-at-lt':\n",
    "               sorted_args[1], sorted_args[2] = sorted_args[2], sorted_args[1]\n",
    "            true_cluster_ids = true_cluster_ids[sorted_args]\n",
    "            true_cluster_strs = true_cluster_strs[sorted_args]\n",
    "            answer_code = tuple(np.array(string_answer_to_code[worker_answer])[sorted_args])\n",
    "\n",
    "            if len(np.unique(answer_code)) == 3:\n",
    "                answer_code = (0, 1, 2)\n",
    "            true_answer = ''\n",
    "\n",
    "            if true_cluster_ids[0] == true_cluster_ids[1] == true_cluster_ids[2]:\n",
    "                true_answer = 'All are Same Species'\n",
    "            elif true_cluster_ids[0] == true_cluster_ids[1] and true_cluster_ids[1] != true_cluster_ids[2] and true_cluster_ids[0] != true_cluster_ids[2]:\n",
    "                true_answer = 'ONLY 1 and 2 are Same Species'\n",
    "            elif true_cluster_ids[1] == true_cluster_ids[2] and true_cluster_ids[1] != true_cluster_ids[0] and true_cluster_ids[0] != true_cluster_ids[2]:\n",
    "                true_answer = 'ONLY 2 and 3 are Same Species'\n",
    "            elif true_cluster_ids[0] == true_cluster_ids[2] and true_cluster_ids[1] != true_cluster_ids[0] and true_cluster_ids[1] != true_cluster_ids[2]:\n",
    "                true_answer = 'ONLY 1 and 3 are Same Species'\n",
    "            else:\n",
    "                true_answer = 'NONE, all are different species'\n",
    "\n",
    "            confusion_matrix[', '.join(true_cluster_strs)][str(answer_code)]  += 1"
   ]
  },
  {
   "cell_type": "code",
   "execution_count": 72,
   "id": "eb6cb8ef-89dd-45c4-8ef3-d71a93898159",
   "metadata": {},
   "outputs": [
    {
     "name": "stdout",
     "output_type": "stream",
     "text": [
      "lt_b-at_a-lt_a\n"
     ]
    },
    {
     "data": {
      "text/html": [
       "<div>\n",
       "<style scoped>\n",
       "    .dataframe tbody tr th:only-of-type {\n",
       "        vertical-align: middle;\n",
       "    }\n",
       "\n",
       "    .dataframe tbody tr th {\n",
       "        vertical-align: top;\n",
       "    }\n",
       "\n",
       "    .dataframe thead th {\n",
       "        text-align: right;\n",
       "    }\n",
       "</style>\n",
       "<table border=\"1\" class=\"dataframe\">\n",
       "  <thead>\n",
       "    <tr style=\"text-align: right;\">\n",
       "      <th></th>\n",
       "      <th>lt_b, at_a, lt_a</th>\n",
       "      <th>lt_b, lt_a, at_a</th>\n",
       "      <th>at_a, lt_b, lt_a</th>\n",
       "      <th>at_a, lt_a, lt_b</th>\n",
       "      <th>lt_a, lt_b, at_a</th>\n",
       "      <th>lt_a, at_a, lt_b</th>\n",
       "    </tr>\n",
       "  </thead>\n",
       "  <tbody>\n",
       "    <tr>\n",
       "      <th>(1, 0, 1)</th>\n",
       "      <td>707</td>\n",
       "      <td>34</td>\n",
       "      <td>103</td>\n",
       "      <td>80</td>\n",
       "      <td>140</td>\n",
       "      <td>489</td>\n",
       "    </tr>\n",
       "    <tr>\n",
       "      <th>(1, 1, 1)</th>\n",
       "      <td>64</td>\n",
       "      <td>187</td>\n",
       "      <td>177</td>\n",
       "      <td>123</td>\n",
       "      <td>133</td>\n",
       "      <td>74</td>\n",
       "    </tr>\n",
       "    <tr>\n",
       "      <th>(0, 1, 2)</th>\n",
       "      <td>69</td>\n",
       "      <td>53</td>\n",
       "      <td>40</td>\n",
       "      <td>54</td>\n",
       "      <td>50</td>\n",
       "      <td>67</td>\n",
       "    </tr>\n",
       "    <tr>\n",
       "      <th>(0, 1, 1)</th>\n",
       "      <td>70</td>\n",
       "      <td>71</td>\n",
       "      <td>559</td>\n",
       "      <td>611</td>\n",
       "      <td>79</td>\n",
       "      <td>252</td>\n",
       "    </tr>\n",
       "    <tr>\n",
       "      <th>(1, 1, 0)</th>\n",
       "      <td>90</td>\n",
       "      <td>655</td>\n",
       "      <td>121</td>\n",
       "      <td>132</td>\n",
       "      <td>598</td>\n",
       "      <td>118</td>\n",
       "    </tr>\n",
       "  </tbody>\n",
       "</table>\n",
       "</div>"
      ],
      "text/plain": [
       "           lt_b, at_a, lt_a  lt_b, lt_a, at_a  at_a, lt_b, lt_a  \\\n",
       "(1, 0, 1)               707                34               103   \n",
       "(1, 1, 1)                64               187               177   \n",
       "(0, 1, 2)                69                53                40   \n",
       "(0, 1, 1)                70                71               559   \n",
       "(1, 1, 0)                90               655               121   \n",
       "\n",
       "           at_a, lt_a, lt_b  lt_a, lt_b, at_a  lt_a, at_a, lt_b  \n",
       "(1, 0, 1)                80               140               489  \n",
       "(1, 1, 1)               123               133                74  \n",
       "(0, 1, 2)                54                50                67  \n",
       "(0, 1, 1)               611                79               252  \n",
       "(1, 1, 0)               132               598               118  "
      ]
     },
     "execution_count": 72,
     "metadata": {},
     "output_type": "execute_result"
    }
   ],
   "source": [
    "print(exp_name)\n",
    "count = pd.DataFrame(confusion_matrix).fillna(0)\n",
    "pd.DataFrame(confusion_matrix).fillna(0)"
   ]
  },
  {
   "cell_type": "code",
   "execution_count": 73,
   "id": "ce23ee8e-1c3d-4f94-bc91-6f5891082e14",
   "metadata": {},
   "outputs": [
    {
     "data": {
      "text/html": [
       "<div>\n",
       "<style scoped>\n",
       "    .dataframe tbody tr th:only-of-type {\n",
       "        vertical-align: middle;\n",
       "    }\n",
       "\n",
       "    .dataframe tbody tr th {\n",
       "        vertical-align: top;\n",
       "    }\n",
       "\n",
       "    .dataframe thead th {\n",
       "        text-align: right;\n",
       "    }\n",
       "</style>\n",
       "<table border=\"1\" class=\"dataframe\">\n",
       "  <thead>\n",
       "    <tr style=\"text-align: right;\">\n",
       "      <th></th>\n",
       "      <th>lt_b, at_a, lt_a</th>\n",
       "      <th>lt_b, lt_a, at_a</th>\n",
       "      <th>at_a, lt_b, lt_a</th>\n",
       "      <th>at_a, lt_a, lt_b</th>\n",
       "      <th>lt_a, lt_b, at_a</th>\n",
       "      <th>lt_a, at_a, lt_b</th>\n",
       "    </tr>\n",
       "  </thead>\n",
       "  <tbody>\n",
       "    <tr>\n",
       "      <th>(1, 0, 1)</th>\n",
       "      <td>0.707</td>\n",
       "      <td>0.034</td>\n",
       "      <td>0.103</td>\n",
       "      <td>0.080</td>\n",
       "      <td>0.140</td>\n",
       "      <td>0.489</td>\n",
       "    </tr>\n",
       "    <tr>\n",
       "      <th>(1, 1, 1)</th>\n",
       "      <td>0.064</td>\n",
       "      <td>0.187</td>\n",
       "      <td>0.177</td>\n",
       "      <td>0.123</td>\n",
       "      <td>0.133</td>\n",
       "      <td>0.074</td>\n",
       "    </tr>\n",
       "    <tr>\n",
       "      <th>(0, 1, 2)</th>\n",
       "      <td>0.069</td>\n",
       "      <td>0.053</td>\n",
       "      <td>0.040</td>\n",
       "      <td>0.054</td>\n",
       "      <td>0.050</td>\n",
       "      <td>0.067</td>\n",
       "    </tr>\n",
       "    <tr>\n",
       "      <th>(0, 1, 1)</th>\n",
       "      <td>0.070</td>\n",
       "      <td>0.071</td>\n",
       "      <td>0.559</td>\n",
       "      <td>0.611</td>\n",
       "      <td>0.079</td>\n",
       "      <td>0.252</td>\n",
       "    </tr>\n",
       "    <tr>\n",
       "      <th>(1, 1, 0)</th>\n",
       "      <td>0.090</td>\n",
       "      <td>0.655</td>\n",
       "      <td>0.121</td>\n",
       "      <td>0.132</td>\n",
       "      <td>0.598</td>\n",
       "      <td>0.118</td>\n",
       "    </tr>\n",
       "  </tbody>\n",
       "</table>\n",
       "</div>"
      ],
      "text/plain": [
       "           lt_b, at_a, lt_a  lt_b, lt_a, at_a  at_a, lt_b, lt_a  \\\n",
       "(1, 0, 1)             0.707             0.034             0.103   \n",
       "(1, 1, 1)             0.064             0.187             0.177   \n",
       "(0, 1, 2)             0.069             0.053             0.040   \n",
       "(0, 1, 1)             0.070             0.071             0.559   \n",
       "(1, 1, 0)             0.090             0.655             0.121   \n",
       "\n",
       "           at_a, lt_a, lt_b  lt_a, lt_b, at_a  lt_a, at_a, lt_b  \n",
       "(1, 0, 1)             0.080             0.140             0.489  \n",
       "(1, 1, 1)             0.123             0.133             0.074  \n",
       "(0, 1, 2)             0.054             0.050             0.067  \n",
       "(0, 1, 1)             0.611             0.079             0.252  \n",
       "(1, 1, 0)             0.132             0.598             0.118  "
      ]
     },
     "execution_count": 73,
     "metadata": {},
     "output_type": "execute_result"
    }
   ],
   "source": [
    "emp_obs_prob_mat = pd.DataFrame(confusion_matrix).fillna(0) / pd.DataFrame(confusion_matrix).fillna(0).sum(axis=0)\n",
    "emp_obs_prob_mat"
   ]
  },
  {
   "cell_type": "code",
   "execution_count": 74,
   "id": "a25e0b3d-bb23-43ee-acc2-0fd4a4dc7dd0",
   "metadata": {},
   "outputs": [
    {
     "name": "stdout",
     "output_type": "stream",
     "text": [
      "\\begin{tabular}{lrrrrrr}\n",
      "\\toprule\n",
      "{} &  lt\\_b, at\\_a, lt\\_a &  lt\\_b, lt\\_a, at\\_a &  at\\_a, lt\\_b, lt\\_a &  at\\_a, lt\\_a, lt\\_b &  lt\\_a, lt\\_b, at\\_a &  lt\\_a, at\\_a, lt\\_b \\\\\n",
      "\\midrule\n",
      "(1, 0, 1) &            0.7070 &            0.0340 &            0.1030 &            0.0800 &            0.1400 &            0.4890 \\\\\n",
      "(1, 1, 1) &            0.0640 &            0.1870 &            0.1770 &            0.1230 &            0.1330 &            0.0740 \\\\\n",
      "(0, 1, 2) &            0.0690 &            0.0530 &            0.0400 &            0.0540 &            0.0500 &            0.0670 \\\\\n",
      "(0, 1, 1) &            0.0700 &            0.0710 &            0.5590 &            0.6110 &            0.0790 &            0.2520 \\\\\n",
      "(1, 1, 0) &            0.0900 &            0.6550 &            0.1210 &            0.1320 &            0.5980 &            0.1180 \\\\\n",
      "\\bottomrule\n",
      "\\end{tabular}\n",
      "\n"
     ]
    },
    {
     "name": "stderr",
     "output_type": "stream",
     "text": [
      "/var/folders/36/1dhnptp91hzb49wm7_3_1b6m0000gn/T/ipykernel_4991/3078085336.py:1: FutureWarning: In future versions `DataFrame.to_latex` is expected to utilise the base implementation of `Styler.to_latex` for formatting and rendering. The arguments signature may therefore change. It is recommended instead to use `DataFrame.style.to_latex` which also contains additional functionality.\n",
      "  print(emp_obs_prob_mat.to_latex(index=True,\n"
     ]
    }
   ],
   "source": [
    "print(emp_obs_prob_mat.to_latex(index=True,\n",
    "                  formatters={\"name\": str.upper},\n",
    "                  float_format=\"{:.4f}\".format,\n",
    "))  "
   ]
  },
  {
   "cell_type": "code",
   "execution_count": 75,
   "id": "c9fc1c5a-770e-444d-9980-0dda7c5472f7",
   "metadata": {},
   "outputs": [
    {
     "data": {
      "text/plain": [
       "lt_b, at_a, lt_a    1000\n",
       "lt_b, lt_a, at_a    1000\n",
       "at_a, lt_b, lt_a    1000\n",
       "at_a, lt_a, lt_b    1000\n",
       "lt_a, lt_b, at_a    1000\n",
       "lt_a, at_a, lt_b    1000\n",
       "dtype: int64"
      ]
     },
     "execution_count": 75,
     "metadata": {},
     "output_type": "execute_result"
    }
   ],
   "source": [
    "emp_obs_mat = pd.DataFrame(confusion_matrix).fillna(0)\n",
    "column_sums = emp_obs_mat.sum(axis=0)\n",
    "column_sums"
   ]
  },
  {
   "cell_type": "code",
   "execution_count": 76,
   "id": "3856ae91-9307-411f-b860-3c3a8dc99468",
   "metadata": {},
   "outputs": [],
   "source": [
    "emp_var = emp_obs_prob_mat * (1 - emp_obs_prob_mat) * column_sums / (column_sums - 1)\n",
    "two_sd = 2 * np.sqrt(emp_var / column_sums)"
   ]
  },
  {
   "cell_type": "code",
   "execution_count": 52,
   "id": "dd3676f7-db6f-4f31-85d7-65248c3197bd",
   "metadata": {},
   "outputs": [
    {
     "name": "stdout",
     "output_type": "stream",
     "text": [
      "\\begin{tabular}{lr}\n",
      "\\toprule\n",
      "{} &  lt\\_b, at\\_a, lt\\_a \\\\\n",
      "\\midrule\n",
      "(0, 1, 1) &            0.0161 \\\\\n",
      "(0, 1, 2) &            0.0160 \\\\\n",
      "(1, 0, 1) &            0.0288 \\\\\n",
      "(1, 1, 0) &            0.0181 \\\\\n",
      "(1, 1, 1) &            0.0155 \\\\\n",
      "\\bottomrule\n",
      "\\end{tabular}\n",
      "\n"
     ]
    },
    {
     "name": "stderr",
     "output_type": "stream",
     "text": [
      "/var/folders/36/1dhnptp91hzb49wm7_3_1b6m0000gn/T/ipykernel_4991/2495288626.py:2: FutureWarning: In future versions `DataFrame.to_latex` is expected to utilise the base implementation of `Styler.to_latex` for formatting and rendering. The arguments signature may therefore change. It is recommended instead to use `DataFrame.style.to_latex` which also contains additional functionality.\n",
      "  print(two_sd.to_latex(index=True,\n"
     ]
    }
   ],
   "source": [
    "two_sd\n",
    "print(two_sd.to_latex(index=True,\n",
    "                  formatters={\"name\": str.upper},\n",
    "                  float_format=\"{:.4f}\".format,\n",
    "))  "
   ]
  },
  {
   "cell_type": "code",
   "execution_count": 53,
   "id": "08c2de20-da68-4ac7-874a-b327b81a5855",
   "metadata": {},
   "outputs": [
    {
     "name": "stdout",
     "output_type": "stream",
     "text": [
      "Experiment: lt_b-at_a-lt_a\n"
     ]
    }
   ],
   "source": [
    "print(f'Experiment: {exp_name}')"
   ]
  },
  {
   "cell_type": "code",
   "execution_count": 54,
   "id": "1c0f76df-47dc-4cae-b7d9-152bd89f5d69",
   "metadata": {},
   "outputs": [
    {
     "data": {
      "text/html": [
       "<div>\n",
       "<style scoped>\n",
       "    .dataframe tbody tr th:only-of-type {\n",
       "        vertical-align: middle;\n",
       "    }\n",
       "\n",
       "    .dataframe tbody tr th {\n",
       "        vertical-align: top;\n",
       "    }\n",
       "\n",
       "    .dataframe thead th {\n",
       "        text-align: right;\n",
       "    }\n",
       "</style>\n",
       "<table border=\"1\" class=\"dataframe\">\n",
       "  <thead>\n",
       "    <tr style=\"text-align: right;\">\n",
       "      <th></th>\n",
       "      <th>lt_b, at_a, lt_a</th>\n",
       "    </tr>\n",
       "  </thead>\n",
       "  <tbody>\n",
       "    <tr>\n",
       "      <th>(0, 1, 1)</th>\n",
       "      <td>70</td>\n",
       "    </tr>\n",
       "    <tr>\n",
       "      <th>(0, 1, 2)</th>\n",
       "      <td>69</td>\n",
       "    </tr>\n",
       "    <tr>\n",
       "      <th>(1, 0, 1)</th>\n",
       "      <td>707</td>\n",
       "    </tr>\n",
       "    <tr>\n",
       "      <th>(1, 1, 0)</th>\n",
       "      <td>90</td>\n",
       "    </tr>\n",
       "    <tr>\n",
       "      <th>(1, 1, 1)</th>\n",
       "      <td>64</td>\n",
       "    </tr>\n",
       "  </tbody>\n",
       "</table>\n",
       "</div>"
      ],
      "text/plain": [
       "           lt_b, at_a, lt_a\n",
       "(0, 1, 1)                70\n",
       "(0, 1, 2)                69\n",
       "(1, 0, 1)               707\n",
       "(1, 1, 0)                90\n",
       "(1, 1, 1)                64"
      ]
     },
     "execution_count": 54,
     "metadata": {},
     "output_type": "execute_result"
    }
   ],
   "source": [
    "count.sort_index(ascending=True)"
   ]
  },
  {
   "cell_type": "code",
   "execution_count": 55,
   "id": "ac856278-9b63-4fcb-bfe1-c53576308867",
   "metadata": {},
   "outputs": [
    {
     "data": {
      "text/html": [
       "<div>\n",
       "<style scoped>\n",
       "    .dataframe tbody tr th:only-of-type {\n",
       "        vertical-align: middle;\n",
       "    }\n",
       "\n",
       "    .dataframe tbody tr th {\n",
       "        vertical-align: top;\n",
       "    }\n",
       "\n",
       "    .dataframe thead th {\n",
       "        text-align: right;\n",
       "    }\n",
       "</style>\n",
       "<table border=\"1\" class=\"dataframe\">\n",
       "  <thead>\n",
       "    <tr style=\"text-align: right;\">\n",
       "      <th></th>\n",
       "      <th>lt_b, at_a, lt_a</th>\n",
       "    </tr>\n",
       "  </thead>\n",
       "  <tbody>\n",
       "    <tr>\n",
       "      <th>(0, 1, 1)</th>\n",
       "      <td>0.070</td>\n",
       "    </tr>\n",
       "    <tr>\n",
       "      <th>(0, 1, 2)</th>\n",
       "      <td>0.069</td>\n",
       "    </tr>\n",
       "    <tr>\n",
       "      <th>(1, 0, 1)</th>\n",
       "      <td>0.707</td>\n",
       "    </tr>\n",
       "    <tr>\n",
       "      <th>(1, 1, 0)</th>\n",
       "      <td>0.090</td>\n",
       "    </tr>\n",
       "    <tr>\n",
       "      <th>(1, 1, 1)</th>\n",
       "      <td>0.064</td>\n",
       "    </tr>\n",
       "  </tbody>\n",
       "</table>\n",
       "</div>"
      ],
      "text/plain": [
       "           lt_b, at_a, lt_a\n",
       "(0, 1, 1)             0.070\n",
       "(0, 1, 2)             0.069\n",
       "(1, 0, 1)             0.707\n",
       "(1, 1, 0)             0.090\n",
       "(1, 1, 1)             0.064"
      ]
     },
     "execution_count": 55,
     "metadata": {},
     "output_type": "execute_result"
    }
   ],
   "source": [
    "emp_obs_prob_mat"
   ]
  },
  {
   "cell_type": "code",
   "execution_count": 56,
   "id": "8ce115e4-6c36-4372-afa8-18ae19c33a3f",
   "metadata": {},
   "outputs": [
    {
     "data": {
      "text/html": [
       "<div>\n",
       "<style scoped>\n",
       "    .dataframe tbody tr th:only-of-type {\n",
       "        vertical-align: middle;\n",
       "    }\n",
       "\n",
       "    .dataframe tbody tr th {\n",
       "        vertical-align: top;\n",
       "    }\n",
       "\n",
       "    .dataframe thead th {\n",
       "        text-align: right;\n",
       "    }\n",
       "</style>\n",
       "<table border=\"1\" class=\"dataframe\">\n",
       "  <thead>\n",
       "    <tr style=\"text-align: right;\">\n",
       "      <th></th>\n",
       "      <th>lt_b, at_a, lt_a</th>\n",
       "    </tr>\n",
       "  </thead>\n",
       "  <tbody>\n",
       "    <tr>\n",
       "      <th>(0, 1, 1)</th>\n",
       "      <td>0.016145</td>\n",
       "    </tr>\n",
       "    <tr>\n",
       "      <th>(0, 1, 2)</th>\n",
       "      <td>0.016038</td>\n",
       "    </tr>\n",
       "    <tr>\n",
       "      <th>(1, 0, 1)</th>\n",
       "      <td>0.028800</td>\n",
       "    </tr>\n",
       "    <tr>\n",
       "      <th>(1, 1, 0)</th>\n",
       "      <td>0.018109</td>\n",
       "    </tr>\n",
       "    <tr>\n",
       "      <th>(1, 1, 1)</th>\n",
       "      <td>0.015487</td>\n",
       "    </tr>\n",
       "  </tbody>\n",
       "</table>\n",
       "</div>"
      ],
      "text/plain": [
       "           lt_b, at_a, lt_a\n",
       "(0, 1, 1)          0.016145\n",
       "(0, 1, 2)          0.016038\n",
       "(1, 0, 1)          0.028800\n",
       "(1, 1, 0)          0.018109\n",
       "(1, 1, 1)          0.015487"
      ]
     },
     "execution_count": 56,
     "metadata": {},
     "output_type": "execute_result"
    }
   ],
   "source": [
    "two_sd"
   ]
  },
  {
   "cell_type": "code",
   "execution_count": null,
   "id": "b336f4e4-81ff-49d8-99a1-6db88c8bd5f7",
   "metadata": {},
   "outputs": [],
   "source": []
  }
 ],
 "metadata": {
  "kernelspec": {
   "display_name": "Python 3 (ipykernel)",
   "language": "python",
   "name": "python3"
  },
  "language_info": {
   "codemirror_mode": {
    "name": "ipython",
    "version": 3
   },
   "file_extension": ".py",
   "mimetype": "text/x-python",
   "name": "python",
   "nbconvert_exporter": "python",
   "pygments_lexer": "ipython3",
   "version": "3.9.16"
  }
 },
 "nbformat": 4,
 "nbformat_minor": 5
}
