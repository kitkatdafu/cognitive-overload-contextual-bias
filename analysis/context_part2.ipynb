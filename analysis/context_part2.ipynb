{
 "cells": [
  {
   "cell_type": "code",
   "execution_count": 37,
   "id": "0adb832f-d52c-45a3-8739-7ce04aadd44b",
   "metadata": {},
   "outputs": [],
   "source": [
    "import json\n",
    "import pandas as pd\n",
    "import numpy as np\n",
    "from itertools import combinations\n",
    "from scipy.stats import multinomial\n",
    "from scipy.stats import kstest, chisquare\n",
    "from collections import defaultdict"
   ]
  },
  {
   "cell_type": "code",
   "execution_count": 38,
   "id": "1c0e4450-74ce-4402-a2ef-2bbf13d6d00b",
   "metadata": {},
   "outputs": [],
   "source": [
    "exp_name = \"lt-at-al-part2\""
   ]
  },
  {
   "cell_type": "code",
   "execution_count": 39,
   "id": "efca1ecc-5fb3-4ed2-93c8-1c4d2082513c",
   "metadata": {},
   "outputs": [],
   "source": [
    "exp = np.array(exp_name.split(\"-\")[:3])\n",
    "string_answer_to_code = {\n",
    "    'All are Same Species': \"1, 1, 1\",\n",
    "    'ONLY 1 and 2 are Same Species': \"1, 1, 0\",\n",
    "    'ONLY 2 and 3 are Same Species': \"0, 1, 1\",\n",
    "    'ONLY 1 and 3 are Same Species': \"1, 0, 1\",\n",
    "    'NONE, all are different species': \"0, 1, 2\"\n",
    "}"
   ]
  },
  {
   "cell_type": "code",
   "execution_count": 40,
   "id": "8acdfc8a-c2f7-4457-a1fb-3397cc02ff7f",
   "metadata": {},
   "outputs": [],
   "source": [
    "with open(f\"data/{exp_name}.json\") as fp:\n",
    "    data = json.load(fp)"
   ]
  },
  {
   "cell_type": "code",
   "execution_count": 41,
   "id": "0f87d410-083c-473a-8158-707825997dd1",
   "metadata": {},
   "outputs": [],
   "source": [
    "confusion_matrix = defaultdict(lambda: defaultdict(int))\n",
    "\n",
    "for worker in data:\n",
    "    for answer in worker['answer']:\n",
    "        if 'originalOrder' not in answer or len(answer['originalOrder']) == 0:\n",
    "            continue\n",
    "        args = answer['args']\n",
    "        question_order = tuple(exp[args])\n",
    "        if sum(confusion_matrix[\", \".join(question_order)].values()) == 980:\n",
    "            continue\n",
    "        question_answer = string_answer_to_code[answer['clusters']]\n",
    "        confusion_matrix[\", \".join(question_order)][question_answer]  += 1\n",
    "            "
   ]
  },
  {
   "cell_type": "code",
   "execution_count": 42,
   "id": "b956c1f0-99d5-4f92-b15e-f7d964691070",
   "metadata": {},
   "outputs": [
    {
     "data": {
      "text/html": [
       "<div>\n",
       "<style scoped>\n",
       "    .dataframe tbody tr th:only-of-type {\n",
       "        vertical-align: middle;\n",
       "    }\n",
       "\n",
       "    .dataframe tbody tr th {\n",
       "        vertical-align: top;\n",
       "    }\n",
       "\n",
       "    .dataframe thead th {\n",
       "        text-align: right;\n",
       "    }\n",
       "</style>\n",
       "<table border=\"1\" class=\"dataframe\">\n",
       "  <thead>\n",
       "    <tr style=\"text-align: right;\">\n",
       "      <th></th>\n",
       "      <th>lt, al, at</th>\n",
       "      <th>at, lt, al</th>\n",
       "      <th>al, at, lt</th>\n",
       "      <th>al, lt, at</th>\n",
       "      <th>lt, at, al</th>\n",
       "      <th>at, al, lt</th>\n",
       "    </tr>\n",
       "  </thead>\n",
       "  <tbody>\n",
       "    <tr>\n",
       "      <th>0, 1, 2</th>\n",
       "      <td>264</td>\n",
       "      <td>279</td>\n",
       "      <td>279</td>\n",
       "      <td>262</td>\n",
       "      <td>279</td>\n",
       "      <td>279</td>\n",
       "    </tr>\n",
       "    <tr>\n",
       "      <th>1, 0, 1</th>\n",
       "      <td>365</td>\n",
       "      <td>168</td>\n",
       "      <td>183</td>\n",
       "      <td>169</td>\n",
       "      <td>173</td>\n",
       "      <td>367</td>\n",
       "    </tr>\n",
       "    <tr>\n",
       "      <th>1, 1, 0</th>\n",
       "      <td>146</td>\n",
       "      <td>342</td>\n",
       "      <td>109</td>\n",
       "      <td>129</td>\n",
       "      <td>357</td>\n",
       "      <td>117</td>\n",
       "    </tr>\n",
       "    <tr>\n",
       "      <th>0, 1, 1</th>\n",
       "      <td>149</td>\n",
       "      <td>133</td>\n",
       "      <td>344</td>\n",
       "      <td>366</td>\n",
       "      <td>120</td>\n",
       "      <td>165</td>\n",
       "    </tr>\n",
       "    <tr>\n",
       "      <th>1, 1, 1</th>\n",
       "      <td>56</td>\n",
       "      <td>58</td>\n",
       "      <td>65</td>\n",
       "      <td>54</td>\n",
       "      <td>51</td>\n",
       "      <td>52</td>\n",
       "    </tr>\n",
       "  </tbody>\n",
       "</table>\n",
       "</div>"
      ],
      "text/plain": [
       "         lt, al, at  at, lt, al  al, at, lt  al, lt, at  lt, at, al  \\\n",
       "0, 1, 2         264         279         279         262         279   \n",
       "1, 0, 1         365         168         183         169         173   \n",
       "1, 1, 0         146         342         109         129         357   \n",
       "0, 1, 1         149         133         344         366         120   \n",
       "1, 1, 1          56          58          65          54          51   \n",
       "\n",
       "         at, al, lt  \n",
       "0, 1, 2         279  \n",
       "1, 0, 1         367  \n",
       "1, 1, 0         117  \n",
       "0, 1, 1         165  \n",
       "1, 1, 1          52  "
      ]
     },
     "execution_count": 42,
     "metadata": {},
     "output_type": "execute_result"
    }
   ],
   "source": [
    "count_df = pd.DataFrame(confusion_matrix).fillna(0)\n",
    "count_df"
   ]
  },
  {
   "cell_type": "code",
   "execution_count": 43,
   "id": "78f35fc6",
   "metadata": {},
   "outputs": [
    {
     "data": {
      "text/plain": [
       "lt, al, at    980\n",
       "at, lt, al    980\n",
       "al, at, lt    980\n",
       "al, lt, at    980\n",
       "lt, at, al    980\n",
       "at, al, lt    980\n",
       "dtype: int64"
      ]
     },
     "execution_count": 43,
     "metadata": {},
     "output_type": "execute_result"
    }
   ],
   "source": [
    "count_df.sum()"
   ]
  },
  {
   "cell_type": "code",
   "execution_count": 44,
   "id": "e26a6acc-fc58-4b71-b0b1-34f92474147b",
   "metadata": {},
   "outputs": [],
   "source": [
    "def get_unified_pmf(col, count_df):\n",
    "    mapping = {\n",
    "        '1, 1, 1': 0,\n",
    "        '1, 1, 0': 1,\n",
    "        '1, 0, 1': 2,\n",
    "        '0, 1, 1': 3,\n",
    "        '0, 1, 2': 4,\n",
    "        '2, 0, 1': 4,\n",
    "        '2, 1, 0': 4,\n",
    "        '1, 2, 0': 4,\n",
    "        '1, 0, 2': 4,\n",
    "        '0, 2, 1': 4,\n",
    "    }\n",
    "    pmf = np.zeros(5)\n",
    "    arg_idx = np.argsort(col.split(', '))\n",
    "    for idx, n in count_df[col].items():\n",
    "        new_idx = ', '.join(np.array(idx.split(', '))[arg_idx])\n",
    "        pmf[mapping[new_idx]] = n\n",
    "    return pmf"
   ]
  },
  {
   "cell_type": "code",
   "execution_count": 45,
   "id": "0a116bd8-648b-402d-b4e8-6d1e9d6bd6c4",
   "metadata": {},
   "outputs": [
    {
     "name": "stdout",
     "output_type": "stream",
     "text": [
      "lt, al, at vs. at, lt, al: statistic: 5.842 p-value: 0.211 corrected: 3.169 [ 56. 149. 146. 365. 264.] [ 58. 168. 133. 342. 279.]\n",
      "lt, al, at vs. al, at, lt: statistic: 25.494 p-value: 0.000 corrected: 0.001 [ 56. 149. 146. 365. 264.] [ 65. 109. 183. 344. 279.]\n",
      "lt, al, at vs. al, lt, at: statistic: 4.699 p-value: 0.320 corrected: 4.794 [ 56. 149. 146. 365. 264.] [ 54. 169. 129. 366. 262.]\n",
      "lt, al, at vs. lt, at, al: statistic: 12.698 p-value: 0.013 corrected: 0.193 [ 56. 149. 146. 365. 264.] [ 51. 120. 173. 357. 279.]\n",
      "lt, al, at vs. at, al, lt: statistic: 12.065 p-value: 0.017 corrected: 0.253 [ 56. 149. 146. 365. 264.] [ 52. 117. 165. 367. 279.]\n",
      "at, lt, al vs. al, at, lt: statistic: 46.362 p-value: 0.000 corrected: 0.000 [ 58. 168. 133. 342. 279.] [ 65. 109. 183. 344. 279.]\n",
      "at, lt, al vs. al, lt, at: statistic: 3.103 p-value: 0.541 corrected: 8.111 [ 58. 168. 133. 342. 279.] [ 54. 169. 129. 366. 262.]\n",
      "at, lt, al vs. lt, at, al: statistic: 30.040 p-value: 0.000 corrected: 0.000 [ 58. 168. 133. 342. 279.] [ 51. 120. 173. 357. 279.]\n",
      "at, lt, al vs. at, al, lt: statistic: 30.832 p-value: 0.000 corrected: 0.000 [ 58. 168. 133. 342. 279.] [ 52. 117. 165. 367. 279.]\n",
      "al, at, lt vs. al, lt, at: statistic: 48.573 p-value: 0.000 corrected: 0.000 [ 65. 109. 183. 344. 279.] [ 54. 169. 129. 366. 262.]\n",
      "al, at, lt vs. lt, at, al: statistic: 5.903 p-value: 0.207 corrected: 3.098 [ 65. 109. 183. 344. 279.] [ 51. 120. 173. 357. 279.]\n",
      "al, at, lt vs. at, al, lt: statistic: 7.202 p-value: 0.126 corrected: 1.884 [ 65. 109. 183. 344. 279.] [ 52. 117. 165. 367. 279.]\n",
      "al, lt, at vs. lt, at, al: statistic: 32.638 p-value: 0.000 corrected: 0.000 [ 54. 169. 129. 366. 262.] [ 51. 120. 173. 357. 279.]\n",
      "al, lt, at vs. at, al, lt: statistic: 32.081 p-value: 0.000 corrected: 0.000 [ 54. 169. 129. 366. 262.] [ 52. 117. 165. 367. 279.]\n",
      "lt, at, al vs. at, al, lt: statistic: 0.757 p-value: 0.944 corrected: 14.163 [ 51. 120. 173. 357. 279.] [ 52. 117. 165. 367. 279.]\n"
     ]
    }
   ],
   "source": [
    "np.random.seed(1)\n",
    "for exp_i, exp_j in combinations(count_df.columns, 2):\n",
    "    f_i = get_unified_pmf(exp_i, count_df)\n",
    "    f_j = get_unified_pmf(exp_j, count_df)\n",
    "    result = chisquare(f_obs=f_i, f_exp=f_j)\n",
    "    print(f'{exp_i} vs. {exp_j}: statistic: {result.statistic:.3f} p-value: {result.pvalue:.3f} corrected: {result.pvalue * 15:.3f}', f_i, f_j)"
   ]
  },
  {
   "cell_type": "raw",
   "id": "5e5c888f-009e-4305-958c-40c7f943ff99",
   "metadata": {},
   "source": [
    "def get_d_95(true_pmf):\n",
    "    np.random.seed(42)\n",
    "    tv_s = []\n",
    "    for i in range(1000):\n",
    "        emp_pmf = np.zeros(true_pmf.shape)\n",
    "        supports, counts = np.unique(multinomial(n=1, p=true_pmf).rvs(n).argmax(axis=1), return_counts=True)\n",
    "        for s, c in zip(supports, counts):\n",
    "            emp_pmf[s] = c\n",
    "        emp_pmf = emp_pmf / emp_pmf.sum()\n",
    "        tv = 0.5 * np.linalg.norm(true_pmf - emp_pmf, 1)\n",
    "        tv_s.append(tv)\n",
    "    d_95 = np.percentile(tv_s, 95, method=\"higher\")\n",
    "    return d_95"
   ]
  },
  {
   "cell_type": "raw",
   "id": "102216fb-2d9c-46a6-9156-0f72533daa90",
   "metadata": {},
   "source": [
    "for (pmf_i, col_a), (pmf_j, col_b) in combinations(pmfs, 2):\n",
    "    r_1 = get_d_95(pmf_i)\n",
    "    r_2 = get_d_95(pmf_j)\n",
    "    r_3 = 0.5 * np.linalg.norm(pmf_i - pmf_j, 1)\n",
    "    print(f'{col_a} {r_1:.5f}, {col_b} {r_2:.5f}, {r_1 + r_2:.3f}, {r_3:.3f}, {r_3 > r_1 + r_2}')"
   ]
  }
 ],
 "metadata": {
  "kernelspec": {
   "display_name": "Python 3 (ipykernel)",
   "language": "python",
   "name": "python3"
  },
  "language_info": {
   "codemirror_mode": {
    "name": "ipython",
    "version": 3
   },
   "file_extension": ".py",
   "mimetype": "text/x-python",
   "name": "python",
   "nbconvert_exporter": "python",
   "pygments_lexer": "ipython3",
   "version": "3.9.16"
  }
 },
 "nbformat": 4,
 "nbformat_minor": 5
}
