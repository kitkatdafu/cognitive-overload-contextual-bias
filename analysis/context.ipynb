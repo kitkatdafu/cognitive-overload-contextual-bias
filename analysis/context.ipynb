{
 "cells": [
  {
   "cell_type": "code",
   "execution_count": 7,
   "id": "4eadbe15-3a36-4e62-89a0-836cd4e27c1e",
   "metadata": {},
   "outputs": [],
   "source": [
    "import json\n",
    "import pandas as pd\n",
    "import numpy as np\n",
    "from itertools import combinations\n",
    "from collections import defaultdict\n",
    "from scipy.special import rel_entr"
   ]
  },
  {
   "cell_type": "code",
   "execution_count": 8,
   "id": "470488f3-38ca-4887-8caa-74acfde9fc8e",
   "metadata": {},
   "outputs": [],
   "source": [
    "al = set(range(0, 24))\n",
    "lt = set(range(24, 63))\n",
    "at = set(range(63, 89))\n",
    "ca = set(range(89, 127))\n",
    "ct = set(range(127, 147))\n",
    "\n",
    "clusters = [lt, at, al, ca, ct]\n",
    "cluster_str = ['lt', 'at', 'al', 'ca', 'ct']\n",
    "image_id_to_cluster_id = {}\n",
    "image_id_to_cluster_str = {}\n",
    "for cluster_id, cluster in enumerate(clusters):\n",
    "    for image_id in cluster:\n",
    "        image_id_to_cluster_id[image_id] = cluster_id\n",
    "        image_id_to_cluster_str[image_id] = cluster_str[cluster_id]"
   ]
  },
  {
   "cell_type": "code",
   "execution_count": 9,
   "id": "fa884583-a4fd-42c8-a10b-f2ca481143bb",
   "metadata": {},
   "outputs": [],
   "source": [
    "string_answer_to_code = {\n",
    "    'All are Same Species': [1, 1, 1],\n",
    "    'ONLY 1 and 2 are Same Species': [1, 1, 0],\n",
    "    'ONLY 2 and 3 are Same Species': [0, 1, 1],\n",
    "    'ONLY 1 and 3 are Same Species': [1, 0, 1],\n",
    "    'NONE, all are different species': [0, 1, 2]\n",
    "}"
   ]
  },
  {
   "cell_type": "code",
   "execution_count": 10,
   "id": "944f0960-5842-4e67-8847-a943f7f1ba74",
   "metadata": {},
   "outputs": [],
   "source": [
    "# exp_name = 'at-lt-at'"
   ]
  },
  {
   "cell_type": "code",
   "execution_count": 11,
   "id": "690a2276-86ee-4096-9215-bc6ba550408c",
   "metadata": {},
   "outputs": [],
   "source": [
    "# with open(f'data/{exp_name}.json') as file:\n",
    "#     data = json.load(file)"
   ]
  },
  {
   "cell_type": "code",
   "execution_count": 12,
   "id": "eb6cb8ef-89dd-45c4-8ef3-d71a93898159",
   "metadata": {},
   "outputs": [
    {
     "ename": "NameError",
     "evalue": "name 'exp_name' is not defined",
     "output_type": "error",
     "traceback": [
      "\u001b[0;31m---------------------------------------------------------------------------\u001b[0m",
      "\u001b[0;31mNameError\u001b[0m                                 Traceback (most recent call last)",
      "Cell \u001b[0;32mIn[12], line 1\u001b[0m\n\u001b[0;32m----> 1\u001b[0m \u001b[38;5;28mprint\u001b[39m(exp_name)\n\u001b[1;32m      2\u001b[0m count \u001b[38;5;241m=\u001b[39m pd\u001b[38;5;241m.\u001b[39mDataFrame(confusion_matrix)\u001b[38;5;241m.\u001b[39mfillna(\u001b[38;5;241m0\u001b[39m)\n\u001b[1;32m      3\u001b[0m pd\u001b[38;5;241m.\u001b[39mDataFrame(confusion_matrix)\u001b[38;5;241m.\u001b[39mfillna(\u001b[38;5;241m0\u001b[39m)\n",
      "\u001b[0;31mNameError\u001b[0m: name 'exp_name' is not defined"
     ]
    }
   ],
   "source": [
    "print(exp_name)\n",
    "count = pd.DataFrame(confusion_matrix).fillna(0)\n",
    "pd.DataFrame(confusion_matrix).fillna(0)"
   ]
  },
  {
   "cell_type": "code",
   "execution_count": null,
   "id": "ce23ee8e-1c3d-4f94-bc91-6f5891082e14",
   "metadata": {},
   "outputs": [
    {
     "data": {
      "text/html": [
       "<div>\n",
       "<style scoped>\n",
       "    .dataframe tbody tr th:only-of-type {\n",
       "        vertical-align: middle;\n",
       "    }\n",
       "\n",
       "    .dataframe tbody tr th {\n",
       "        vertical-align: top;\n",
       "    }\n",
       "\n",
       "    .dataframe thead th {\n",
       "        text-align: right;\n",
       "    }\n",
       "</style>\n",
       "<table border=\"1\" class=\"dataframe\">\n",
       "  <thead>\n",
       "    <tr style=\"text-align: right;\">\n",
       "      <th></th>\n",
       "      <th>at, lt, at</th>\n",
       "      <th>lt, at, lt</th>\n",
       "      <th>lt, at, ct</th>\n",
       "      <th>lt, at, al</th>\n",
       "      <th>lt, at, ca</th>\n",
       "    </tr>\n",
       "  </thead>\n",
       "  <tbody>\n",
       "    <tr>\n",
       "      <th>(1, 0, 1)</th>\n",
       "      <td>0.402</td>\n",
       "      <td>0.509</td>\n",
       "      <td>0.192</td>\n",
       "      <td>0.113</td>\n",
       "      <td>0.062</td>\n",
       "    </tr>\n",
       "    <tr>\n",
       "      <th>(1, 1, 0)</th>\n",
       "      <td>0.139</td>\n",
       "      <td>0.134</td>\n",
       "      <td>0.157</td>\n",
       "      <td>0.443</td>\n",
       "      <td>0.556</td>\n",
       "    </tr>\n",
       "    <tr>\n",
       "      <th>(0, 1, 1)</th>\n",
       "      <td>0.127</td>\n",
       "      <td>0.132</td>\n",
       "      <td>0.424</td>\n",
       "      <td>0.112</td>\n",
       "      <td>0.086</td>\n",
       "    </tr>\n",
       "    <tr>\n",
       "      <th>(1, 1, 1)</th>\n",
       "      <td>0.292</td>\n",
       "      <td>0.163</td>\n",
       "      <td>0.152</td>\n",
       "      <td>0.048</td>\n",
       "      <td>0.030</td>\n",
       "    </tr>\n",
       "    <tr>\n",
       "      <th>(0, 1, 2)</th>\n",
       "      <td>0.040</td>\n",
       "      <td>0.062</td>\n",
       "      <td>0.075</td>\n",
       "      <td>0.284</td>\n",
       "      <td>0.266</td>\n",
       "    </tr>\n",
       "  </tbody>\n",
       "</table>\n",
       "</div>"
      ],
      "text/plain": [
       "           at, lt, at  lt, at, lt  lt, at, ct  lt, at, al  lt, at, ca\n",
       "(1, 0, 1)       0.402       0.509       0.192       0.113       0.062\n",
       "(1, 1, 0)       0.139       0.134       0.157       0.443       0.556\n",
       "(0, 1, 1)       0.127       0.132       0.424       0.112       0.086\n",
       "(1, 1, 1)       0.292       0.163       0.152       0.048       0.030\n",
       "(0, 1, 2)       0.040       0.062       0.075       0.284       0.266"
      ]
     },
     "execution_count": 147,
     "metadata": {},
     "output_type": "execute_result"
    }
   ],
   "source": [
    "emp_obs_prob_mat = pd.DataFrame(confusion_matrix).fillna(0) / pd.DataFrame(confusion_matrix).fillna(0).sum(axis=0)\n",
    "emp_obs_prob_mat"
   ]
  },
  {
   "cell_type": "code",
   "execution_count": null,
   "id": "a25e0b3d-bb23-43ee-acc2-0fd4a4dc7dd0",
   "metadata": {},
   "outputs": [
    {
     "name": "stdout",
     "output_type": "stream",
     "text": [
      "\\begin{tabular}{lrrrrr}\n",
      "\\toprule\n",
      "{} &  at, lt, at &  lt, at, lt &  lt, at, ct &  lt, at, al &  lt, at, ca \\\\\n",
      "\\midrule\n",
      "(1, 0, 1) &      0.4020 &      0.5090 &      0.1920 &      0.1130 &      0.0620 \\\\\n",
      "(1, 1, 0) &      0.1390 &      0.1340 &      0.1570 &      0.4430 &      0.5560 \\\\\n",
      "(0, 1, 1) &      0.1270 &      0.1320 &      0.4240 &      0.1120 &      0.0860 \\\\\n",
      "(1, 1, 1) &      0.2920 &      0.1630 &      0.1520 &      0.0480 &      0.0300 \\\\\n",
      "(0, 1, 2) &      0.0400 &      0.0620 &      0.0750 &      0.2840 &      0.2660 \\\\\n",
      "\\bottomrule\n",
      "\\end{tabular}\n",
      "\n"
     ]
    },
    {
     "name": "stderr",
     "output_type": "stream",
     "text": [
      "/var/folders/36/1dhnptp91hzb49wm7_3_1b6m0000gn/T/ipykernel_10785/3078085336.py:1: FutureWarning: In future versions `DataFrame.to_latex` is expected to utilise the base implementation of `Styler.to_latex` for formatting and rendering. The arguments signature may therefore change. It is recommended instead to use `DataFrame.style.to_latex` which also contains additional functionality.\n",
      "  print(emp_obs_prob_mat.to_latex(index=True,\n"
     ]
    }
   ],
   "source": [
    "print(emp_obs_prob_mat.to_latex(index=True,\n",
    "                  formatters={\"name\": str.upper},\n",
    "                  float_format=\"{:.4f}\".format,\n",
    "))  "
   ]
  },
  {
   "cell_type": "code",
   "execution_count": null,
   "id": "c9fc1c5a-770e-444d-9980-0dda7c5472f7",
   "metadata": {},
   "outputs": [
    {
     "data": {
      "text/plain": [
       "at, lt, at    1000\n",
       "lt, at, lt    1000\n",
       "lt, at, ct    1000\n",
       "lt, at, al    1000\n",
       "lt, at, ca    1000\n",
       "dtype: int64"
      ]
     },
     "execution_count": 149,
     "metadata": {},
     "output_type": "execute_result"
    }
   ],
   "source": [
    "emp_obs_mat = pd.DataFrame(confusion_matrix).fillna(0)\n",
    "column_sums = emp_obs_mat.sum(axis=0)\n",
    "column_sums"
   ]
  },
  {
   "cell_type": "code",
   "execution_count": null,
   "id": "3856ae91-9307-411f-b860-3c3a8dc99468",
   "metadata": {},
   "outputs": [],
   "source": [
    "emp_var = emp_obs_prob_mat * (1 - emp_obs_prob_mat) * column_sums / (column_sums - 1)\n",
    "two_sd = 2 * np.sqrt(emp_var / column_sums)"
   ]
  },
  {
   "cell_type": "code",
   "execution_count": null,
   "id": "dd3676f7-db6f-4f31-85d7-65248c3197bd",
   "metadata": {},
   "outputs": [
    {
     "name": "stdout",
     "output_type": "stream",
     "text": [
      "\\begin{tabular}{lrrrrr}\n",
      "\\toprule\n",
      "{} &  at, lt, at &  lt, at, lt &  lt, at, ct &  lt, at, al &  lt, at, ca \\\\\n",
      "\\midrule\n",
      "(1, 0, 1) &      0.0310 &      0.0316 &      0.0249 &      0.0200 &      0.0153 \\\\\n",
      "(1, 1, 0) &      0.0219 &      0.0216 &      0.0230 &      0.0314 &      0.0314 \\\\\n",
      "(0, 1, 1) &      0.0211 &      0.0214 &      0.0313 &      0.0200 &      0.0177 \\\\\n",
      "(1, 1, 1) &      0.0288 &      0.0234 &      0.0227 &      0.0135 &      0.0108 \\\\\n",
      "(0, 1, 2) &      0.0124 &      0.0153 &      0.0167 &      0.0285 &      0.0280 \\\\\n",
      "\\bottomrule\n",
      "\\end{tabular}\n",
      "\n"
     ]
    },
    {
     "name": "stderr",
     "output_type": "stream",
     "text": [
      "/var/folders/36/1dhnptp91hzb49wm7_3_1b6m0000gn/T/ipykernel_10785/2495288626.py:2: FutureWarning: In future versions `DataFrame.to_latex` is expected to utilise the base implementation of `Styler.to_latex` for formatting and rendering. The arguments signature may therefore change. It is recommended instead to use `DataFrame.style.to_latex` which also contains additional functionality.\n",
      "  print(two_sd.to_latex(index=True,\n"
     ]
    }
   ],
   "source": [
    "two_sd\n",
    "print(two_sd.to_latex(index=True,\n",
    "                  formatters={\"name\": str.upper},\n",
    "                  float_format=\"{:.4f}\".format,\n",
    "))  "
   ]
  },
  {
   "cell_type": "code",
   "execution_count": null,
   "id": "08c2de20-da68-4ac7-874a-b327b81a5855",
   "metadata": {},
   "outputs": [
    {
     "name": "stdout",
     "output_type": "stream",
     "text": [
      "Experiment: lt-at-ca\n"
     ]
    }
   ],
   "source": [
    "print(f'Experiment: {exp_name}')"
   ]
  },
  {
   "cell_type": "code",
   "execution_count": null,
   "id": "1c0f76df-47dc-4cae-b7d9-152bd89f5d69",
   "metadata": {},
   "outputs": [
    {
     "data": {
      "text/html": [
       "<div>\n",
       "<style scoped>\n",
       "    .dataframe tbody tr th:only-of-type {\n",
       "        vertical-align: middle;\n",
       "    }\n",
       "\n",
       "    .dataframe tbody tr th {\n",
       "        vertical-align: top;\n",
       "    }\n",
       "\n",
       "    .dataframe thead th {\n",
       "        text-align: right;\n",
       "    }\n",
       "</style>\n",
       "<table border=\"1\" class=\"dataframe\">\n",
       "  <thead>\n",
       "    <tr style=\"text-align: right;\">\n",
       "      <th></th>\n",
       "      <th>at, lt, at</th>\n",
       "      <th>lt, at, lt</th>\n",
       "      <th>lt, at, ct</th>\n",
       "      <th>lt, at, al</th>\n",
       "      <th>lt, at, ca</th>\n",
       "    </tr>\n",
       "  </thead>\n",
       "  <tbody>\n",
       "    <tr>\n",
       "      <th>(0, 1, 1)</th>\n",
       "      <td>127</td>\n",
       "      <td>132</td>\n",
       "      <td>424</td>\n",
       "      <td>112</td>\n",
       "      <td>86</td>\n",
       "    </tr>\n",
       "    <tr>\n",
       "      <th>(0, 1, 2)</th>\n",
       "      <td>40</td>\n",
       "      <td>62</td>\n",
       "      <td>75</td>\n",
       "      <td>284</td>\n",
       "      <td>266</td>\n",
       "    </tr>\n",
       "    <tr>\n",
       "      <th>(1, 0, 1)</th>\n",
       "      <td>402</td>\n",
       "      <td>509</td>\n",
       "      <td>192</td>\n",
       "      <td>113</td>\n",
       "      <td>62</td>\n",
       "    </tr>\n",
       "    <tr>\n",
       "      <th>(1, 1, 0)</th>\n",
       "      <td>139</td>\n",
       "      <td>134</td>\n",
       "      <td>157</td>\n",
       "      <td>443</td>\n",
       "      <td>556</td>\n",
       "    </tr>\n",
       "    <tr>\n",
       "      <th>(1, 1, 1)</th>\n",
       "      <td>292</td>\n",
       "      <td>163</td>\n",
       "      <td>152</td>\n",
       "      <td>48</td>\n",
       "      <td>30</td>\n",
       "    </tr>\n",
       "  </tbody>\n",
       "</table>\n",
       "</div>"
      ],
      "text/plain": [
       "           at, lt, at  lt, at, lt  lt, at, ct  lt, at, al  lt, at, ca\n",
       "(0, 1, 1)         127         132         424         112          86\n",
       "(0, 1, 2)          40          62          75         284         266\n",
       "(1, 0, 1)         402         509         192         113          62\n",
       "(1, 1, 0)         139         134         157         443         556\n",
       "(1, 1, 1)         292         163         152          48          30"
      ]
     },
     "execution_count": 153,
     "metadata": {},
     "output_type": "execute_result"
    }
   ],
   "source": [
    "count.sort_index(ascending=True)"
   ]
  },
  {
   "cell_type": "code",
   "execution_count": null,
   "id": "ac856278-9b63-4fcb-bfe1-c53576308867",
   "metadata": {},
   "outputs": [
    {
     "data": {
      "text/html": [
       "<div>\n",
       "<style scoped>\n",
       "    .dataframe tbody tr th:only-of-type {\n",
       "        vertical-align: middle;\n",
       "    }\n",
       "\n",
       "    .dataframe tbody tr th {\n",
       "        vertical-align: top;\n",
       "    }\n",
       "\n",
       "    .dataframe thead th {\n",
       "        text-align: right;\n",
       "    }\n",
       "</style>\n",
       "<table border=\"1\" class=\"dataframe\">\n",
       "  <thead>\n",
       "    <tr style=\"text-align: right;\">\n",
       "      <th></th>\n",
       "      <th>at, lt, at</th>\n",
       "      <th>lt, at, lt</th>\n",
       "      <th>lt, at, ct</th>\n",
       "      <th>lt, at, al</th>\n",
       "      <th>lt, at, ca</th>\n",
       "    </tr>\n",
       "  </thead>\n",
       "  <tbody>\n",
       "    <tr>\n",
       "      <th>(1, 0, 1)</th>\n",
       "      <td>0.402</td>\n",
       "      <td>0.509</td>\n",
       "      <td>0.192</td>\n",
       "      <td>0.113</td>\n",
       "      <td>0.062</td>\n",
       "    </tr>\n",
       "    <tr>\n",
       "      <th>(1, 1, 0)</th>\n",
       "      <td>0.139</td>\n",
       "      <td>0.134</td>\n",
       "      <td>0.157</td>\n",
       "      <td>0.443</td>\n",
       "      <td>0.556</td>\n",
       "    </tr>\n",
       "    <tr>\n",
       "      <th>(0, 1, 1)</th>\n",
       "      <td>0.127</td>\n",
       "      <td>0.132</td>\n",
       "      <td>0.424</td>\n",
       "      <td>0.112</td>\n",
       "      <td>0.086</td>\n",
       "    </tr>\n",
       "    <tr>\n",
       "      <th>(1, 1, 1)</th>\n",
       "      <td>0.292</td>\n",
       "      <td>0.163</td>\n",
       "      <td>0.152</td>\n",
       "      <td>0.048</td>\n",
       "      <td>0.030</td>\n",
       "    </tr>\n",
       "    <tr>\n",
       "      <th>(0, 1, 2)</th>\n",
       "      <td>0.040</td>\n",
       "      <td>0.062</td>\n",
       "      <td>0.075</td>\n",
       "      <td>0.284</td>\n",
       "      <td>0.266</td>\n",
       "    </tr>\n",
       "  </tbody>\n",
       "</table>\n",
       "</div>"
      ],
      "text/plain": [
       "           at, lt, at  lt, at, lt  lt, at, ct  lt, at, al  lt, at, ca\n",
       "(1, 0, 1)       0.402       0.509       0.192       0.113       0.062\n",
       "(1, 1, 0)       0.139       0.134       0.157       0.443       0.556\n",
       "(0, 1, 1)       0.127       0.132       0.424       0.112       0.086\n",
       "(1, 1, 1)       0.292       0.163       0.152       0.048       0.030\n",
       "(0, 1, 2)       0.040       0.062       0.075       0.284       0.266"
      ]
     },
     "execution_count": 154,
     "metadata": {},
     "output_type": "execute_result"
    }
   ],
   "source": [
    "emp_obs_prob_mat"
   ]
  },
  {
   "cell_type": "code",
   "execution_count": null,
   "id": "8ce115e4-6c36-4372-afa8-18ae19c33a3f",
   "metadata": {},
   "outputs": [
    {
     "data": {
      "text/html": [
       "<div>\n",
       "<style scoped>\n",
       "    .dataframe tbody tr th:only-of-type {\n",
       "        vertical-align: middle;\n",
       "    }\n",
       "\n",
       "    .dataframe tbody tr th {\n",
       "        vertical-align: top;\n",
       "    }\n",
       "\n",
       "    .dataframe thead th {\n",
       "        text-align: right;\n",
       "    }\n",
       "</style>\n",
       "<table border=\"1\" class=\"dataframe\">\n",
       "  <thead>\n",
       "    <tr style=\"text-align: right;\">\n",
       "      <th></th>\n",
       "      <th>at, lt, at</th>\n",
       "      <th>lt, at, lt</th>\n",
       "      <th>lt, at, ct</th>\n",
       "      <th>lt, at, al</th>\n",
       "      <th>lt, at, ca</th>\n",
       "    </tr>\n",
       "  </thead>\n",
       "  <tbody>\n",
       "    <tr>\n",
       "      <th>(1, 0, 1)</th>\n",
       "      <td>0.031025</td>\n",
       "      <td>0.031633</td>\n",
       "      <td>0.024923</td>\n",
       "      <td>0.020033</td>\n",
       "      <td>0.015260</td>\n",
       "    </tr>\n",
       "    <tr>\n",
       "      <th>(1, 1, 0)</th>\n",
       "      <td>0.021891</td>\n",
       "      <td>0.021556</td>\n",
       "      <td>0.023020</td>\n",
       "      <td>0.031432</td>\n",
       "      <td>0.031440</td>\n",
       "    </tr>\n",
       "    <tr>\n",
       "      <th>(0, 1, 1)</th>\n",
       "      <td>0.021070</td>\n",
       "      <td>0.021419</td>\n",
       "      <td>0.031271</td>\n",
       "      <td>0.019956</td>\n",
       "      <td>0.017741</td>\n",
       "    </tr>\n",
       "    <tr>\n",
       "      <th>(1, 1, 1)</th>\n",
       "      <td>0.028771</td>\n",
       "      <td>0.023372</td>\n",
       "      <td>0.022718</td>\n",
       "      <td>0.013527</td>\n",
       "      <td>0.010794</td>\n",
       "    </tr>\n",
       "    <tr>\n",
       "      <th>(0, 1, 2)</th>\n",
       "      <td>0.012400</td>\n",
       "      <td>0.015260</td>\n",
       "      <td>0.016667</td>\n",
       "      <td>0.028534</td>\n",
       "      <td>0.027960</td>\n",
       "    </tr>\n",
       "  </tbody>\n",
       "</table>\n",
       "</div>"
      ],
      "text/plain": [
       "           at, lt, at  lt, at, lt  lt, at, ct  lt, at, al  lt, at, ca\n",
       "(1, 0, 1)    0.031025    0.031633    0.024923    0.020033    0.015260\n",
       "(1, 1, 0)    0.021891    0.021556    0.023020    0.031432    0.031440\n",
       "(0, 1, 1)    0.021070    0.021419    0.031271    0.019956    0.017741\n",
       "(1, 1, 1)    0.028771    0.023372    0.022718    0.013527    0.010794\n",
       "(0, 1, 2)    0.012400    0.015260    0.016667    0.028534    0.027960"
      ]
     },
     "execution_count": 155,
     "metadata": {},
     "output_type": "execute_result"
    }
   ],
   "source": [
    "two_sd / 2"
   ]
  },
  {
   "cell_type": "code",
   "execution_count": null,
   "id": "b336f4e4-81ff-49d8-99a1-6db88c8bd5f7",
   "metadata": {},
   "outputs": [
    {
     "data": {
      "text/html": [
       "<div>\n",
       "<style scoped>\n",
       "    .dataframe tbody tr th:only-of-type {\n",
       "        vertical-align: middle;\n",
       "    }\n",
       "\n",
       "    .dataframe tbody tr th {\n",
       "        vertical-align: top;\n",
       "    }\n",
       "\n",
       "    .dataframe thead th {\n",
       "        text-align: right;\n",
       "    }\n",
       "</style>\n",
       "<table border=\"1\" class=\"dataframe\">\n",
       "  <thead>\n",
       "    <tr style=\"text-align: right;\">\n",
       "      <th></th>\n",
       "      <th>at, lt, at</th>\n",
       "      <th>lt, at, lt</th>\n",
       "      <th>lt, at, ct</th>\n",
       "      <th>lt, at, al</th>\n",
       "      <th>lt, at, ca</th>\n",
       "    </tr>\n",
       "  </thead>\n",
       "  <tbody>\n",
       "    <tr>\n",
       "      <th>(1, 0, 1)</th>\n",
       "      <td>0.402</td>\n",
       "      <td>0.509</td>\n",
       "      <td>0.192</td>\n",
       "      <td>0.113</td>\n",
       "      <td>0.062</td>\n",
       "    </tr>\n",
       "    <tr>\n",
       "      <th>(1, 1, 0)</th>\n",
       "      <td>0.139</td>\n",
       "      <td>0.134</td>\n",
       "      <td>0.157</td>\n",
       "      <td>0.443</td>\n",
       "      <td>0.556</td>\n",
       "    </tr>\n",
       "    <tr>\n",
       "      <th>(0, 1, 1)</th>\n",
       "      <td>0.127</td>\n",
       "      <td>0.132</td>\n",
       "      <td>0.424</td>\n",
       "      <td>0.112</td>\n",
       "      <td>0.086</td>\n",
       "    </tr>\n",
       "    <tr>\n",
       "      <th>(1, 1, 1)</th>\n",
       "      <td>0.292</td>\n",
       "      <td>0.163</td>\n",
       "      <td>0.152</td>\n",
       "      <td>0.048</td>\n",
       "      <td>0.030</td>\n",
       "    </tr>\n",
       "    <tr>\n",
       "      <th>(0, 1, 2)</th>\n",
       "      <td>0.040</td>\n",
       "      <td>0.062</td>\n",
       "      <td>0.075</td>\n",
       "      <td>0.284</td>\n",
       "      <td>0.266</td>\n",
       "    </tr>\n",
       "  </tbody>\n",
       "</table>\n",
       "</div>"
      ],
      "text/plain": [
       "           at, lt, at  lt, at, lt  lt, at, ct  lt, at, al  lt, at, ca\n",
       "(1, 0, 1)       0.402       0.509       0.192       0.113       0.062\n",
       "(1, 1, 0)       0.139       0.134       0.157       0.443       0.556\n",
       "(0, 1, 1)       0.127       0.132       0.424       0.112       0.086\n",
       "(1, 1, 1)       0.292       0.163       0.152       0.048       0.030\n",
       "(0, 1, 2)       0.040       0.062       0.075       0.284       0.266"
      ]
     },
     "execution_count": 210,
     "metadata": {},
     "output_type": "execute_result"
    }
   ],
   "source": [
    "emp_obs_prob_mat"
   ]
  },
  {
   "cell_type": "code",
   "execution_count": null,
   "id": "c5daa844-bf14-432c-80eb-58d768e6af32",
   "metadata": {},
   "outputs": [],
   "source": [
    "from scipy.stats import multinomial\n",
    "from scipy.stats import kstest\n",
    "from scipy.stats import chisquare"
   ]
  },
  {
   "cell_type": "code",
   "execution_count": null,
   "id": "2d059ac3-7bef-4eca-bae8-b866c240c891",
   "metadata": {},
   "outputs": [
    {
     "name": "stdout",
     "output_type": "stream",
     "text": [
      "at, lt, at vs. lt, at, lt: statistic: 0.114 p-value: 0.000 corrected: 0.000\n",
      "at, lt, at vs. lt, at, ct: statistic: 0.209 p-value: 0.000 corrected: 0.000\n",
      "at, lt, at vs. lt, at, al: statistic: 0.302 p-value: 0.000 corrected: 0.000\n",
      "at, lt, at vs. lt, at, ca: statistic: 0.347 p-value: 0.000 corrected: 0.000\n",
      "lt, at, lt vs. lt, at, ct: statistic: 0.305 p-value: 0.000 corrected: 0.000\n",
      "lt, at, lt vs. lt, at, al: statistic: 0.431 p-value: 0.000 corrected: 0.000\n",
      "lt, at, lt vs. lt, at, ca: statistic: 0.461 p-value: 0.000 corrected: 0.000\n",
      "lt, at, ct vs. lt, at, al: statistic: 0.214 p-value: 0.000 corrected: 0.000\n",
      "lt, at, ct vs. lt, at, ca: statistic: 0.275 p-value: 0.000 corrected: 0.000\n",
      "lt, at, al vs. lt, at, ca: statistic: 0.090 p-value: 0.001 corrected: 0.006\n"
     ]
    }
   ],
   "source": [
    "np.random.seed(42)\n",
    "n = 1000\n",
    "for exp_i, exp_j in combinations(emp_obs_prob_mat.columns, 2):\n",
    "    result = kstest(rvs=multinomial(n=1, p=emp_obs_prob_mat[exp_i]).rvs(n).argmax(axis=1),\n",
    "                    cdf=multinomial(n=1, p=emp_obs_prob_mat[exp_j]).rvs(n).argmax(axis=1))\n",
    "    print(f'{exp_i} vs. {exp_j}: statistic: {result.statistic:.3f} p-value: {result.pvalue:.3f} corrected: {result.pvalue * 10:.3f}')"
   ]
  },
  {
   "cell_type": "code",
   "execution_count": null,
   "id": "df4a8984-7bc9-4768-a4dc-86d46f7dd432",
   "metadata": {},
   "outputs": [
    {
     "name": "stdout",
     "output_type": "stream",
     "text": [
      "at, lt, at vs. lt, at, lt: statistic: 132.768 p-value: 0.000 corrected: 0.000\n",
      "at, lt, at vs. lt, at, ct: statistic: 585.072 p-value: 0.000 corrected: 0.000\n",
      "at, lt, at vs. lt, at, al: statistic: 2399.714 p-value: 0.000 corrected: 0.000\n",
      "at, lt, at vs. lt, at, ca: statistic: 4676.961 p-value: 0.000 corrected: 0.000\n",
      "lt, at, lt vs. lt, at, ct: statistic: 730.893 p-value: 0.000 corrected: 0.000\n",
      "lt, at, lt vs. lt, at, al: statistic: 2055.912 p-value: 0.000 corrected: 0.000\n",
      "lt, at, lt vs. lt, at, ca: statistic: 4313.710 p-value: 0.000 corrected: 0.000\n",
      "lt, at, ct vs. lt, at, al: statistic: 1488.154 p-value: 0.000 corrected: 0.000\n",
      "lt, at, ct vs. lt, at, ca: statistic: 2520.612 p-value: 0.000 corrected: 0.000\n",
      "lt, at, al vs. lt, at, ca: statistic: 84.796 p-value: 0.000 corrected: 0.000\n"
     ]
    }
   ],
   "source": [
    "np.random.seed(42)\n",
    "for exp_i, exp_j in combinations(emp_obs_mat.columns, 2):\n",
    "    result = chisquare(emp_obs_mat[exp_i], emp_obs_mat[exp_j])\n",
    "    print(f'{exp_i} vs. {exp_j}: statistic: {result.statistic:.3f} p-value: {result.pvalue:.3f} corrected: {result.pvalue * 10:.3f}')"
   ]
  },
  {
   "cell_type": "code",
   "execution_count": null,
   "id": "64a6e66c-49c4-4a2d-92d3-92e3810c2acb",
   "metadata": {},
   "outputs": [
    {
     "data": {
      "text/plain": [
       "0.060731606268894296"
      ]
     },
     "execution_count": 220,
     "metadata": {},
     "output_type": "execute_result"
    }
   ],
   "source": [
    "np.sqrt((n + n) / (n * n)) * 1.358"
   ]
  },
  {
   "cell_type": "code",
   "execution_count": null,
   "id": "d27583af-f79b-4d14-977d-d0c4fc01bf2b",
   "metadata": {},
   "outputs": [
    {
     "data": {
      "text/html": [
       "<div>\n",
       "<style scoped>\n",
       "    .dataframe tbody tr th:only-of-type {\n",
       "        vertical-align: middle;\n",
       "    }\n",
       "\n",
       "    .dataframe tbody tr th {\n",
       "        vertical-align: top;\n",
       "    }\n",
       "\n",
       "    .dataframe thead th {\n",
       "        text-align: right;\n",
       "    }\n",
       "</style>\n",
       "<table border=\"1\" class=\"dataframe\">\n",
       "  <thead>\n",
       "    <tr style=\"text-align: right;\">\n",
       "      <th></th>\n",
       "      <th>at, lt, at</th>\n",
       "      <th>lt, at, lt</th>\n",
       "      <th>lt, at, ct</th>\n",
       "      <th>lt, at, al</th>\n",
       "      <th>lt, at, ca</th>\n",
       "    </tr>\n",
       "  </thead>\n",
       "  <tbody>\n",
       "    <tr>\n",
       "      <th>(1, 0, 1)</th>\n",
       "      <td>0.402</td>\n",
       "      <td>0.509</td>\n",
       "      <td>0.192</td>\n",
       "      <td>0.113</td>\n",
       "      <td>0.062</td>\n",
       "    </tr>\n",
       "    <tr>\n",
       "      <th>(1, 1, 0)</th>\n",
       "      <td>0.139</td>\n",
       "      <td>0.134</td>\n",
       "      <td>0.157</td>\n",
       "      <td>0.443</td>\n",
       "      <td>0.556</td>\n",
       "    </tr>\n",
       "    <tr>\n",
       "      <th>(0, 1, 1)</th>\n",
       "      <td>0.127</td>\n",
       "      <td>0.132</td>\n",
       "      <td>0.424</td>\n",
       "      <td>0.112</td>\n",
       "      <td>0.086</td>\n",
       "    </tr>\n",
       "    <tr>\n",
       "      <th>(1, 1, 1)</th>\n",
       "      <td>0.292</td>\n",
       "      <td>0.163</td>\n",
       "      <td>0.152</td>\n",
       "      <td>0.048</td>\n",
       "      <td>0.030</td>\n",
       "    </tr>\n",
       "    <tr>\n",
       "      <th>(0, 1, 2)</th>\n",
       "      <td>0.040</td>\n",
       "      <td>0.062</td>\n",
       "      <td>0.075</td>\n",
       "      <td>0.284</td>\n",
       "      <td>0.266</td>\n",
       "    </tr>\n",
       "  </tbody>\n",
       "</table>\n",
       "</div>"
      ],
      "text/plain": [
       "           at, lt, at  lt, at, lt  lt, at, ct  lt, at, al  lt, at, ca\n",
       "(1, 0, 1)       0.402       0.509       0.192       0.113       0.062\n",
       "(1, 1, 0)       0.139       0.134       0.157       0.443       0.556\n",
       "(0, 1, 1)       0.127       0.132       0.424       0.112       0.086\n",
       "(1, 1, 1)       0.292       0.163       0.152       0.048       0.030\n",
       "(0, 1, 2)       0.040       0.062       0.075       0.284       0.266"
      ]
     },
     "execution_count": 226,
     "metadata": {},
     "output_type": "execute_result"
    }
   ],
   "source": [
    "emp_obs_prob_mat"
   ]
  },
  {
   "cell_type": "code",
   "execution_count": null,
   "id": "c758780c-854d-4d2c-8b94-e5d4b4a67cb2",
   "metadata": {},
   "outputs": [
    {
     "data": {
      "image/png": "[encoded data removed]",
      "text/plain": [
       "<Figure size 2560x1920 with 1 Axes>"
      ]
     },
     "metadata": {},
     "output_type": "display_data"
    }
   ],
   "source": [
    "for col_a, col_b in combinations(emp_obs_prob_mat.columns, 2):\n",
    "    r_1 = get_d_95(emp_obs_prob_mat[col_a].to_numpy())\n",
    "    break\n",
    "    r_2 = get_d_95(emp_obs_prob_mat[col_b].to_numpy())\n",
    "    r_3 = 0.5 * np.linalg.norm(emp_obs_prob_mat[col_a] - emp_obs_prob_mat[col_b], 1)\n",
    "    print(f'{col_a} {r_1:.5f}, {col_b} {r_2:.5f}, {r_1 + r_2:.3f}, {r_3:.3f}, {r_3 > r_1 + r_2}')"
   ]
  },
  {
   "cell_type": "code",
   "execution_count": null,
   "id": "b0d9b18a-6e62-4d79-9a1a-d4d7e11cf265",
   "metadata": {},
   "outputs": [],
   "source": [
    "mat = emp_obs_prob_mat.to_numpy()"
   ]
  },
  {
   "cell_type": "code",
   "execution_count": null,
   "id": "e7a6368a-a7ee-421c-98ff-3f891e6d67ca",
   "metadata": {},
   "outputs": [
    {
     "data": {
      "text/plain": [
       "array([[0.402, 0.509, 0.192, 0.113, 0.062],\n",
       "       [0.139, 0.134, 0.157, 0.443, 0.556],\n",
       "       [0.127, 0.132, 0.424, 0.112, 0.086],\n",
       "       [0.292, 0.163, 0.152, 0.048, 0.03 ],\n",
       "       [0.04 , 0.062, 0.075, 0.284, 0.266]])"
      ]
     },
     "execution_count": 307,
     "metadata": {},
     "output_type": "execute_result"
    }
   ],
   "source": [
    "mat"
   ]
  },
  {
   "cell_type": "code",
   "execution_count": null,
   "id": "76f3d5c1-6a32-4780-a210-9d3b77486f74",
   "metadata": {},
   "outputs": [],
   "source": []
  }
 ],
 "metadata": {
  "kernelspec": {
   "display_name": "Python 3 (ipykernel)",
   "language": "python",
   "name": "python3"
  },
  "language_info": {
   "codemirror_mode": {
    "name": "ipython",
    "version": 3
   },
   "file_extension": ".py",
   "mimetype": "text/x-python",
   "name": "python",
   "nbconvert_exporter": "python",
   "pygments_lexer": "ipython3",
   "version": "3.11.5"
  }
 },
 "nbformat": 4,
 "nbformat_minor": 5
}
