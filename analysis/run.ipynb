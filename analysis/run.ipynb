{
 "cells": [
  {
   "cell_type": "code",
   "execution_count": 1,
   "metadata": {},
   "outputs": [],
   "source": [
    "from analyzer import *\n",
    "from glob import glob\n",
    "from scipy.io import savemat\n",
    "import re"
   ]
  },
  {
   "cell_type": "code",
   "execution_count": 2,
   "metadata": {},
   "outputs": [],
   "source": [
    "mats = {\"birds5\": {},\n",
    " \"dogs3\": {}}\n",
    "for filename in glob(\"./data/*-n=145.json\"):\n",
    "    dataset = \"birds5\" if \"birds5\" in filename else \"dogs3\"\n",
    "    n_i = int(re.search(\"practice-[0-9]\", filename).group(0)[-1])\n",
    "    size = size_of_dataset(dataset)\n",
    "    is_radio = \"radio\" in filename\n",
    "    has_practice = True\n",
    "\n",
    "    true_adj_matrix = retrieve_true_adj_matrix(dataset)\n",
    "    true_clustering = retrieve_true_clustering(dataset)\n",
    "    true_labels = retrieve_true_labels(dataset)\n",
    "\n",
    "    np.random.seed(0)\n",
    "    analyer = Analyzer(\n",
    "        filename,\n",
    "        size,\n",
    "        true_adj_matrix(),\n",
    "        dataset=dataset,\n",
    "        radio=is_radio,\n",
    "        practice=has_practice\n",
    "    )\n",
    "\n",
    "    c = analyer.edge_density(true_clustering())\n",
    "    mats[dataset][n_i] = c"
   ]
  },
  {
   "cell_type": "code",
   "execution_count": 3,
   "metadata": {},
   "outputs": [
    {
     "data": {
      "text/plain": [
       "{7: array([[0.55638269, 0.14685535, 0.06889704],\n",
       "        [0.14685535, 0.41785446, 0.1633175 ],\n",
       "        [0.06889704, 0.1633175 , 0.70314788]]),\n",
       " 6: array([[0.65233104, 0.10208167, 0.05099206],\n",
       "        [0.10208167, 0.51082863, 0.15328467],\n",
       "        [0.05099206, 0.15328467, 0.72024327]]),\n",
       " 5: array([[0.68792402, 0.09412982, 0.05247884],\n",
       "        [0.09412982, 0.5295858 , 0.12083677],\n",
       "        [0.05247884, 0.12083677, 0.70869099]]),\n",
       " 4: array([[0.62456345, 0.06295803, 0.0380291 ],\n",
       "        [0.06295803, 0.50192456, 0.10426716],\n",
       "        [0.0380291 , 0.10426716, 0.67911585]]),\n",
       " 8: array([[0.55901211, 0.12752722, 0.05293711],\n",
       "        [0.12752722, 0.40087719, 0.12783751],\n",
       "        [0.05293711, 0.12783751, 0.66989382]]),\n",
       " 2: array([[0.5045208 , 0.1352657 , 0.11445199],\n",
       "        [0.1352657 , 0.35440181, 0.17281106],\n",
       "        [0.11445199, 0.17281106, 0.55952381]]),\n",
       " 3: array([[0.33818493, 0.09073265, 0.04588529],\n",
       "        [0.09073265, 0.28855721, 0.09633803],\n",
       "        [0.04588529, 0.09633803, 0.46448703]])}"
      ]
     },
     "execution_count": 3,
     "metadata": {},
     "output_type": "execute_result"
    }
   ],
   "source": [
    "mats[\"dogs3\"]"
   ]
  },
  {
   "cell_type": "code",
   "execution_count": 7,
   "metadata": {},
   "outputs": [
    {
     "name": "stdout",
     "output_type": "stream",
     "text": [
      "[[0.5648855  0.175      0.08679245 0.02962963 0.02264151 0.05309735]\n",
      " [0.175      0.50393701 0.44081633 0.03478261 0.05017921 0.03921569]\n",
      " [0.08679245 0.44081633 0.66666667 0.01680672 0.03797468 0.03139013]\n",
      " [0.02962963 0.03478261 0.01680672 0.74468085 0.06018519 0.06896552]\n",
      " [0.02264151 0.05017921 0.03797468 0.06018519 0.81343284 0.06451613]\n",
      " [0.05309735 0.03921569 0.03139013 0.06896552 0.06451613 0.13793103]]\n"
     ]
    }
   ],
   "source": [
    "print(mats[\"birds5\"][2])"
   ]
  },
  {
   "cell_type": "code",
   "execution_count": 20,
   "metadata": {},
   "outputs": [],
   "source": [
    "mapping = {\n",
    "    2: \"two\",\n",
    "    3: \"three\",\n",
    "    4: \"four\",\n",
    "    5: \"five\",\n",
    "    6: \"six\",\n",
    "    7: 'seven',\n",
    "    8: \"eight\"\n",
    "}"
   ]
  },
  {
   "cell_type": "code",
   "execution_count": 25,
   "metadata": {},
   "outputs": [],
   "source": [
    "new_mats = {}\n",
    "for key in mats.keys():\n",
    "    new_mats[key] = {}\n",
    "    for _key in mats[key].keys():\n",
    "        new_mats[key][key + \"_\" + str(_key)]  = mats[key][_key]"
   ]
  },
  {
   "cell_type": "code",
   "execution_count": 26,
   "metadata": {},
   "outputs": [],
   "source": [
    "savemat(\"birds5_empirical_edge_density.mat\", new_mats[\"birds5\"])"
   ]
  },
  {
   "cell_type": "code",
   "execution_count": 27,
   "metadata": {},
   "outputs": [],
   "source": [
    "savemat(\"dogs3_empirical_edge_density.mat\", new_mats[\"dogs3\"])"
   ]
  },
  {
   "cell_type": "code",
   "execution_count": 28,
   "metadata": {},
   "outputs": [
    {
     "data": {
      "text/plain": [
       "{'dogs3_7': array([[0.55638269, 0.14685535, 0.06889704],\n",
       "        [0.14685535, 0.41785446, 0.1633175 ],\n",
       "        [0.06889704, 0.1633175 , 0.70314788]]),\n",
       " 'dogs3_6': array([[0.65233104, 0.10208167, 0.05099206],\n",
       "        [0.10208167, 0.51082863, 0.15328467],\n",
       "        [0.05099206, 0.15328467, 0.72024327]]),\n",
       " 'dogs3_5': array([[0.68792402, 0.09412982, 0.05247884],\n",
       "        [0.09412982, 0.5295858 , 0.12083677],\n",
       "        [0.05247884, 0.12083677, 0.70869099]]),\n",
       " 'dogs3_4': array([[0.62456345, 0.06295803, 0.0380291 ],\n",
       "        [0.06295803, 0.50192456, 0.10426716],\n",
       "        [0.0380291 , 0.10426716, 0.67911585]]),\n",
       " 'dogs3_8': array([[0.55901211, 0.12752722, 0.05293711],\n",
       "        [0.12752722, 0.40087719, 0.12783751],\n",
       "        [0.05293711, 0.12783751, 0.66989382]]),\n",
       " 'dogs3_2': array([[0.5045208 , 0.1352657 , 0.11445199],\n",
       "        [0.1352657 , 0.35440181, 0.17281106],\n",
       "        [0.11445199, 0.17281106, 0.55952381]]),\n",
       " 'dogs3_3': array([[0.33818493, 0.09073265, 0.04588529],\n",
       "        [0.09073265, 0.28855721, 0.09633803],\n",
       "        [0.04588529, 0.09633803, 0.46448703]])}"
      ]
     },
     "execution_count": 28,
     "metadata": {},
     "output_type": "execute_result"
    }
   ],
   "source": [
    "new_mats[\"dogs3\"]"
   ]
  },
  {
   "cell_type": "code",
   "execution_count": 16,
   "metadata": {},
   "outputs": [],
   "source": [
    "from scipy.io import loadmat"
   ]
  },
  {
   "cell_type": "code",
   "execution_count": 17,
   "metadata": {},
   "outputs": [],
   "source": [
    "m = loadmat('./mats/radio-2-image-dogs3-2023.mat')"
   ]
  },
  {
   "cell_type": "code",
   "execution_count": 18,
   "metadata": {},
   "outputs": [
    {
     "data": {
      "text/plain": [
       "array([[ 1, -1, -1, ..., -1, -1, -1],\n",
       "       [-1,  1, -1, ..., -1, -1, -1],\n",
       "       [-1, -1,  1, ..., -1, -1, -1],\n",
       "       ...,\n",
       "       [-1, -1, -1, ...,  1, -1, -1],\n",
       "       [-1, -1, -1, ..., -1,  1, -1],\n",
       "       [-1, -1, -1, ..., -1, -1,  1]])"
      ]
     },
     "execution_count": 18,
     "metadata": {},
     "output_type": "execute_result"
    }
   ],
   "source": [
    "m['adjacency_matrix']"
   ]
  },
  {
   "cell_type": "code",
   "execution_count": 15,
   "metadata": {},
   "outputs": [
    {
     "data": {
      "text/plain": [
       "array([-1,  0,  1,  2,  3])"
      ]
     },
     "execution_count": 15,
     "metadata": {},
     "output_type": "execute_result"
    }
   ],
   "source": [
    "np.unique(m['adjacency_frequency_matrix'])"
   ]
  },
  {
   "cell_type": "code",
   "execution_count": 19,
   "metadata": {},
   "outputs": [
    {
     "data": {
      "text/plain": [
       "array([[ 1, -1, -1, ..., -1, -1, -1],\n",
       "       [-1,  1, -1, ..., -1, -1, -1],\n",
       "       [-1, -1,  1, ..., -1, -1, -1],\n",
       "       ...,\n",
       "       [-1, -1, -1, ...,  1, -1, -1],\n",
       "       [-1, -1, -1, ..., -1,  1, -1],\n",
       "       [-1, -1, -1, ..., -1, -1,  1]])"
      ]
     },
     "execution_count": 19,
     "metadata": {},
     "output_type": "execute_result"
    }
   ],
   "source": [
    "m['adjacency_matrix']"
   ]
  },
  {
   "cell_type": "code",
   "execution_count": 21,
   "metadata": {},
   "outputs": [
    {
     "data": {
      "text/plain": [
       "17799"
      ]
     },
     "execution_count": 21,
     "metadata": {},
     "output_type": "execute_result"
    }
   ],
   "source": [
    "m['observation_matrix'].sum()"
   ]
  },
  {
   "cell_type": "code",
   "execution_count": 22,
   "metadata": {},
   "outputs": [
    {
     "data": {
      "text/plain": [
       "(473, 473)"
      ]
     },
     "execution_count": 22,
     "metadata": {},
     "output_type": "execute_result"
    }
   ],
   "source": [
    "m['observation_matrix'].shape"
   ]
  },
  {
   "cell_type": "code",
   "execution_count": null,
   "metadata": {},
   "outputs": [],
   "source": []
  }
 ],
 "metadata": {
  "kernelspec": {
   "display_name": "Python 3 (ipykernel)",
   "language": "python",
   "name": "python3"
  },
  "language_info": {
   "codemirror_mode": {
    "name": "ipython",
    "version": 3
   },
   "file_extension": ".py",
   "mimetype": "text/x-python",
   "name": "python",
   "nbconvert_exporter": "python",
   "pygments_lexer": "ipython3",
   "version": "3.9.16"
  },
  "vscode": {
   "interpreter": {
    "hash": "50ed59304d9afbc1054070e7f5e28bcac6e732cc8b8985f0434243d498546bc2"
   }
  }
 },
 "nbformat": 4,
 "nbformat_minor": 4
}
