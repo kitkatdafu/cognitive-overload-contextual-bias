{
 "cells": [
  {
   "cell_type": "code",
   "execution_count": 1,
   "id": "138c02d9-13a1-4ffa-930e-4411d536031c",
   "metadata": {},
   "outputs": [],
   "source": [
    "from scipy.io import loadmat"
   ]
  },
  {
   "cell_type": "code",
   "execution_count": 2,
   "id": "31ff4c17-d040-4c8f-8958-0ffd0516d8fd",
   "metadata": {},
   "outputs": [
    {
     "name": "stdout",
     "output_type": "stream",
     "text": [
      "Interface: drag-and-drop, m: 2, dataset: dogs3\n",
      "Mean Completion Time: 104.27 seconds\n",
      "Mean Completion Time: 1.74 minutes\n",
      "34.52 per hour\n",
      "\n",
      "Interface: drag-and-drop, m: 3, dataset: dogs3\n",
      "Mean Completion Time: 72.18 seconds\n",
      "Mean Completion Time: 1.20 minutes\n",
      "49.87 per hour\n",
      "\n",
      "Interface: drag-and-drop, m: 4, dataset: dogs3\n",
      "Mean Completion Time: 62.35 seconds\n",
      "Mean Completion Time: 1.04 minutes\n",
      "57.74 per hour\n",
      "\n",
      "Interface: drag-and-drop, m: 5, dataset: dogs3\n",
      "Mean Completion Time: 54.34 seconds\n",
      "Mean Completion Time: 0.91 minutes\n",
      "66.25 per hour\n",
      "\n",
      "Interface: drag-and-drop, m: 6, dataset: dogs3\n",
      "Mean Completion Time: 44.71 seconds\n",
      "Mean Completion Time: 0.75 minutes\n",
      "80.51 per hour\n",
      "\n",
      "Interface: drag-and-drop, m: 7, dataset: dogs3\n",
      "Mean Completion Time: 40.89 seconds\n",
      "Mean Completion Time: 0.68 minutes\n",
      "88.05 per hour\n",
      "\n",
      "Interface: drag-and-drop, m: 8, dataset: dogs3\n",
      "Mean Completion Time: 34.83 seconds\n",
      "Mean Completion Time: 0.58 minutes\n",
      "103.35 per hour\n",
      "\n"
     ]
    }
   ],
   "source": [
    "for dataset in ['dogs3']:\n",
    "    for m in range(2, 9):\n",
    "        for method in [f'sd-rq-wp-{m}']:\n",
    "            if 'radio' in method and m > 4:\n",
    "                continue\n",
    "            secs_mean = loadmat(f'mats/{method}-{dataset}-2023_worker_by_time.mat')['worker_by_time'].sum(axis=1).mean() / m\n",
    "            print_method_name = 'radio' if 'radio' in method else 'drag-and-drop'\n",
    "            print(f'Interface: {print_method_name}, m: {m}, dataset: {dataset}')\n",
    "            print(f'Mean Completion Time: {secs_mean:.2f} seconds')\n",
    "            print(f'Mean Completion Time: {secs_mean / 60:.2f} minutes')\n",
    "            print(f'{60 / (secs_mean / 60):.2f} per hour')\n",
    "            print()"
   ]
  },
  {
   "cell_type": "code",
   "execution_count": 22,
   "id": "c58cab28",
   "metadata": {},
   "outputs": [
    {
     "name": "stdout",
     "output_type": "stream",
     "text": [
      "2 30\n",
      "1.150+/-3.653\n",
      "3 20\n",
      "1.221+/-6.286\n",
      "4 15\n",
      "1.560+/-8.916\n",
      "5 12\n",
      "3.618+/-10.791\n",
      "6 10\n",
      "3.779+/-12.741\n",
      "7 9\n",
      "8.242+/-24.422\n",
      "8 8\n",
      "8.868+/-24.605\n"
     ]
    }
   ],
   "source": [
    "for dataset in ['dogs3']:\n",
    "    for m in range(2, 9):\n",
    "        for method in [f'sd-rq-wp-{m}']:\n",
    "            if 'radio' in method and m > 4:\n",
    "                continue\n",
    "            secs_mean = loadmat(f'mats/{method}-{dataset}-2023_worker_by_time.mat')['worker_by_time'] # .sum(axis=1).mean() / m\n",
    "            half_len = secs_mean.shape[1] // 2\n",
    "            first_half = secs_mean[:, :half_len]\n",
    "            second_half = secs_mean[:, half_len:]\n",
    "            first_half_mean = first_half.mean(axis=1).mean()\n",
    "            second_half_mean = second_half.mean(axis=1).mean()\n",
    "\n",
    "            # print(first_half_mean, second_half_mean)\n",
    "\n",
    "            print(m, secs_mean.shape[1])\n",
    "\n",
    "            diff = first_half.mean(axis=1) - second_half.mean(axis=1)\n",
    "            print(f\"{diff.mean():.3f}+/-{diff.std():.3f}\")\n",
    "\n",
    "            # print_method_name = 'radio' if 'radio' in method else 'drag-and-drop'\n",
    "            # print(f'Interface: {print_method_name}, m: {m}, dataset: {dataset}')\n",
    "            # print(f'Mean Completion Time: {secs_mean:.2f} seconds')\n",
    "            # print(f'Mean Completion Time: {secs_mean / 60:.2f} minutes')\n",
    "            # print(f'{60 / (secs_mean / 60):.2f} per hour')\n",
    "            # print()"
   ]
  }
 ],
 "metadata": {
  "kernelspec": {
   "display_name": "base",
   "language": "python",
   "name": "python3"
  },
  "language_info": {
   "codemirror_mode": {
    "name": "ipython",
    "version": 3
   },
   "file_extension": ".py",
   "mimetype": "text/x-python",
   "name": "python",
   "nbconvert_exporter": "python",
   "pygments_lexer": "ipython3",
   "version": "3.12.2"
  }
 },
 "nbformat": 4,
 "nbformat_minor": 5
}
