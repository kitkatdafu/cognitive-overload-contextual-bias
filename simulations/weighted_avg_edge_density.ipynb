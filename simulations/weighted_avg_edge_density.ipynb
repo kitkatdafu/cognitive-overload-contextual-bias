{
 "cells": [
  {
   "cell_type": "code",
   "execution_count": 24,
   "metadata": {},
   "outputs": [],
   "source": [
    "import numpy as np\n",
    "from scipy.io import loadmat"
   ]
  },
  {
   "cell_type": "code",
   "execution_count": 25,
   "metadata": {},
   "outputs": [],
   "source": [
    "edge_density_matrices = np.array([\n",
    "    loadmat(\"data/P_2_dogs3_drag-and-drop.mat\")[\"P_2\"] / i\n",
    "    for i in range(1, 11)\n",
    "])\n",
    "observed_matrices = np.array([\n",
    "    np.array([[2260, 1974, 2011], [1974, 1860, 1732], [2011, 1732, 1720]], dtype=int)\n",
    "    for i in range(10)\n",
    "])"
   ]
  },
  {
   "cell_type": "code",
   "execution_count": 26,
   "metadata": {},
   "outputs": [
    {
     "data": {
      "text/plain": [
       "(10, 3, 3)"
      ]
     },
     "execution_count": 26,
     "metadata": {},
     "output_type": "execute_result"
    }
   ],
   "source": [
    "edge_density_matrices.shape"
   ]
  },
  {
   "cell_type": "code",
   "execution_count": 27,
   "metadata": {},
   "outputs": [
    {
     "name": "stdout",
     "output_type": "stream",
     "text": [
      "0.16547707158521302\n",
      "0.04035863044981586\n",
      "0.03218806484967599\n",
      "0.04035863044981586\n",
      "0.1250276000947643\n",
      "0.046335871916125954\n",
      "0.03218806484967599\n",
      "0.046335871916125954\n",
      "0.18018399039644367\n",
      "[[0.16547707 0.04035863 0.03218806]\n",
      " [0.04035863 0.1250276  0.04633587]\n",
      " [0.03218806 0.04633587 0.18018399]]\n"
     ]
    }
   ],
   "source": [
    "avg_edge_density_matrix = np.average(edge_density_matrices, axis=0, weights=observed_matrices)"
   ]
  }
 ],
 "metadata": {
  "kernelspec": {
   "display_name": "base",
   "language": "python",
   "name": "python3"
  },
  "language_info": {
   "codemirror_mode": {
    "name": "ipython",
    "version": 3
   },
   "file_extension": ".py",
   "mimetype": "text/x-python",
   "name": "python",
   "nbconvert_exporter": "python",
   "pygments_lexer": "ipython3",
   "version": "3.11.5"
  }
 },
 "nbformat": 4,
 "nbformat_minor": 2
}
