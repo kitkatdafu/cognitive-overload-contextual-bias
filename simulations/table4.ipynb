{
 "cells": [
  {
   "cell_type": "code",
   "execution_count": 148,
   "metadata": {},
   "outputs": [],
   "source": [
    "import numpy as np"
   ]
  },
  {
   "cell_type": "code",
   "execution_count": 149,
   "metadata": {},
   "outputs": [],
   "source": [
    "def print_array(arr, title):\n",
    "    \"\"\"\n",
    "    prints a 2-D numpy array in a nicer format\n",
    "    \"\"\"\n",
    "    print(title)\n",
    "    for a in arr:\n",
    "        for elem in a:\n",
    "            print(\"{:.4f}\".format(elem).rjust(3), end=\"\\t\")\n",
    "        print(end=\"\\n\")"
   ]
  },
  {
   "cell_type": "code",
   "execution_count": 150,
   "metadata": {},
   "outputs": [],
   "source": [
    "confusion_matrix = np.array([[0.801, 0.304, 0.208, 0.016, 0.032, 0.100],\n",
    "                             [0.304, 0.778, 0.656, 0.042, 0.131, 0.123],\n",
    "                             [0.208, 0.656, 0.912, 0.062, 0.094, 0.096],\n",
    "                             [0.016, 0.042, 0.062, 0.855, 0.154, 0.110],\n",
    "                             [0.032, 0.131, 0.094, 0.154, 0.958, 0.158],\n",
    "                             [0.100, 0.123, 0.096, 0.110, 0.158, 0.224]])\n",
    "node_to_cluster = {0: 0, 1: 1, 2: 2, 3: 3, 4: 4, 5: 5}\n",
    "legal = {(1, 1, 1), (1, 0, 0), (0, 1, 0), (0, 0, 1), (0, 0, 0)}"
   ]
  },
  {
   "cell_type": "code",
   "execution_count": 151,
   "metadata": {},
   "outputs": [],
   "source": [
    "def stochastic_block(node_i, node_j):\n",
    "    prob = np.random.rand()\n",
    "    if prob <= confusion_matrix[node_to_cluster[node_i],\n",
    "                                node_to_cluster[node_j]]:\n",
    "        return 1\n",
    "    else:\n",
    "        return 0\n",
    "\n",
    "\n",
    "def conditional_block(nodes):\n",
    "    while True:\n",
    "        # use stochastic_block model to draw edges\n",
    "        result = tuple([stochastic_block(nodes[i], nodes[j])\n",
    "                         for i in range(len(nodes) - 1)\n",
    "                         for j in range(i + 1, len(nodes))])\n",
    "        # check the legality of the edges\n",
    "        if result in legal:\n",
    "            break\n",
    "    return result "
   ]
  },
  {
   "cell_type": "code",
   "execution_count": 152,
   "metadata": {},
   "outputs": [],
   "source": [
    "from collections import Counter\n",
    "import pandas as pd\n",
    "pd.options.display.multi_sparse = False"
   ]
  },
  {
   "cell_type": "code",
   "execution_count": 153,
   "metadata": {},
   "outputs": [],
   "source": [
    "configs = [\n",
    "    [1, 1, 1],\n",
    "    [1, 1, 0],\n",
    "    [1, 0, 1],\n",
    "    [0, 1, 1],\n",
    "    [1, 1, 2],\n",
    "    [1, 2, 1],\n",
    "    [2, 1, 1]\n",
    "]"
   ]
  },
  {
   "cell_type": "code",
   "execution_count": 154,
   "metadata": {},
   "outputs": [],
   "source": [
    "np.random.seed(42)\n",
    "\n",
    "tables = []\n",
    "\n",
    "for _ in range(100):\n",
    "    table = {}\n",
    "    for config in configs:\n",
    "        counter = Counter({legal_config: 0 for legal_config in legal})\n",
    "        counter.update([conditional_block(config) for _ in range(1000)])\n",
    "        table[str(tuple(config))] = counter\n",
    "    \n",
    "    table_4 = pd.DataFrame(table).sort_index(ascending=False)\n",
    "    table_4 = table_4 / table_4.sum(axis=0)\n",
    "    tables.append(table_4.values)\n",
    "\n",
    "tables = np.array(tables)"
   ]
  },
  {
   "cell_type": "code",
   "execution_count": 155,
   "metadata": {},
   "outputs": [
    {
     "data": {
      "text/plain": [
       "array([[0.792, 0.117, 0.12 , 0.1  , 0.584, 0.645, 0.613],\n",
       "       [0.068, 0.578, 0.053, 0.05 , 0.181, 0.082, 0.081],\n",
       "       [0.054, 0.082, 0.567, 0.068, 0.104, 0.145, 0.104],\n",
       "       [0.063, 0.082, 0.078, 0.588, 0.081, 0.077, 0.145],\n",
       "       [0.023, 0.141, 0.182, 0.194, 0.05 , 0.051, 0.057]])"
      ]
     },
     "execution_count": 155,
     "metadata": {},
     "output_type": "execute_result"
    }
   ],
   "source": [
    "tables[0]"
   ]
  },
  {
   "cell_type": "code",
   "execution_count": 156,
   "metadata": {},
   "outputs": [
    {
     "name": "stdout",
     "output_type": "stream",
     "text": [
      "mean:\n",
      "0.7891\t0.1101\t0.1118\t0.1102\t0.6054\t0.6051\t0.6053\t\n",
      "0.0648\t0.5815\t0.0704\t0.0715\t0.1663\t0.0909\t0.0904\t\n",
      "0.0636\t0.0717\t0.5764\t0.0716\t0.0890\t0.1664\t0.0909\t\n",
      "0.0641\t0.0724\t0.0736\t0.5803\t0.0914\t0.0895\t0.1664\t\n",
      "0.0184\t0.1643\t0.1678\t0.1664\t0.0479\t0.0480\t0.0470\t\n"
     ]
    }
   ],
   "source": [
    "print_array(tables.mean(0), \"mean:\")"
   ]
  },
  {
   "cell_type": "code",
   "execution_count": 157,
   "metadata": {},
   "outputs": [
    {
     "name": "stdout",
     "output_type": "stream",
     "text": [
      "sd. dev.\n",
      "0.0134\t0.0097\t0.0100\t0.0094\t0.0162\t0.0148\t0.0153\t\n",
      "0.0081\t0.0156\t0.0070\t0.0084\t0.0124\t0.0091\t0.0082\t\n",
      "0.0071\t0.0087\t0.0163\t0.0090\t0.0092\t0.0117\t0.0091\t\n",
      "0.0080\t0.0087\t0.0082\t0.0170\t0.0086\t0.0087\t0.0118\t\n",
      "0.0043\t0.0118\t0.0108\t0.0117\t0.0066\t0.0063\t0.0076\t\n"
     ]
    }
   ],
   "source": [
    "print_array(tables.std(0), \"sd. dev.\")"
   ]
  },
  {
   "cell_type": "code",
   "execution_count": 158,
   "metadata": {},
   "outputs": [
    {
     "name": "stdout",
     "output_type": "stream",
     "text": [
      "mean + 2 * sd. dev.\n",
      "0.8159\t0.1296\t0.1317\t0.1291\t0.6377\t0.6348\t0.6360\t\n",
      "0.0810\t0.6126\t0.0844\t0.0883\t0.1911\t0.1091\t0.1068\t\n",
      "0.0778\t0.0890\t0.6090\t0.0896\t0.1075\t0.1898\t0.1091\t\n",
      "0.0801\t0.0899\t0.0900\t0.6144\t0.1087\t0.1068\t0.1900\t\n",
      "0.0271\t0.1879\t0.1894\t0.1897\t0.0612\t0.0606\t0.0622\t\n",
      "mean - 2 * sd. dev.\n",
      "0.7622\t0.0907\t0.0918\t0.0913\t0.5731\t0.5755\t0.5746\t\n",
      "0.0487\t0.5503\t0.0564\t0.0547\t0.1414\t0.0728\t0.0739\t\n",
      "0.0494\t0.0543\t0.5438\t0.0537\t0.0705\t0.1431\t0.0727\t\n",
      "0.0481\t0.0549\t0.0573\t0.5462\t0.0741\t0.0722\t0.1428\t\n",
      "0.0098\t0.1408\t0.1463\t0.1431\t0.0347\t0.0354\t0.0318\t\n"
     ]
    }
   ],
   "source": [
    "print_array(tables.mean(0) + 2 * tables.std(0), \"mean + 2 * sd. dev.\")\n",
    "print_array(tables.mean(0) - 2 * tables.std(0), \"mean - 2 * sd. dev.\")"
   ]
  },
  {
   "cell_type": "code",
   "execution_count": null,
   "metadata": {},
   "outputs": [],
   "source": []
  }
 ],
 "metadata": {
  "kernelspec": {
   "display_name": "base",
   "language": "python",
   "name": "python3"
  },
  "language_info": {
   "codemirror_mode": {
    "name": "ipython",
    "version": 3
   },
   "file_extension": ".py",
   "mimetype": "text/x-python",
   "name": "python",
   "nbconvert_exporter": "python",
   "pygments_lexer": "ipython3",
   "version": "3.9.16"
  },
  "orig_nbformat": 4
 },
 "nbformat": 4,
 "nbformat_minor": 2
}
