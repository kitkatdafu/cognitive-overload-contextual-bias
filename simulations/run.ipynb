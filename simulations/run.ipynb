{
 "cells": [
  {
   "cell_type": "code",
   "execution_count": 1,
   "metadata": {},
   "outputs": [],
   "source": [
    "import numpy as np"
   ]
  },
  {
   "cell_type": "code",
   "execution_count": 2,
   "metadata": {},
   "outputs": [],
   "source": [
    "def print_array(arr):\n",
    "    \"\"\"\n",
    "    prints a 2-D numpy array in a nicer format\n",
    "    \"\"\"\n",
    "    for a in arr:\n",
    "        for elem in a:\n",
    "            print(\"{:.3f}\".format(elem).rjust(3), end=\"\\t\")\n",
    "        print(end=\"\\n\")"
   ]
  },
  {
   "cell_type": "code",
   "execution_count": 3,
   "metadata": {},
   "outputs": [],
   "source": [
    "edge_densities = np.load('birds5_pt_from_pe.npy')\n",
    "mean = edge_densities.mean(0)\n",
    "std = edge_densities.std(0)"
   ]
  },
  {
   "cell_type": "code",
   "execution_count": 4,
   "metadata": {},
   "outputs": [
    {
     "name": "stdout",
     "output_type": "stream",
     "text": [
      "0.850\t0.224\t0.144\t0.010\t0.018\t0.072\t\n",
      "0.224\t0.824\t0.641\t0.022\t0.073\t0.080\t\n",
      "0.144\t0.641\t0.979\t0.032\t0.050\t0.062\t\n",
      "0.010\t0.022\t0.032\t0.923\t0.106\t0.083\t\n",
      "0.018\t0.073\t0.050\t0.106\t1.028\t0.117\t\n",
      "0.072\t0.080\t0.062\t0.083\t0.117\t0.264\t\n"
     ]
    }
   ],
   "source": [
    "print_array(mean)"
   ]
  },
  {
   "cell_type": "code",
   "execution_count": 5,
   "metadata": {},
   "outputs": [
    {
     "name": "stdout",
     "output_type": "stream",
     "text": [
      "0.021\t0.014\t0.012\t0.003\t0.004\t0.009\t\n",
      "0.014\t0.023\t0.017\t0.004\t0.008\t0.010\t\n",
      "0.012\t0.017\t0.018\t0.006\t0.007\t0.009\t\n",
      "0.003\t0.004\t0.006\t0.020\t0.011\t0.011\t\n",
      "0.004\t0.008\t0.007\t0.011\t0.010\t0.011\t\n",
      "0.009\t0.010\t0.009\t0.011\t0.011\t0.024\t\n"
     ]
    }
   ],
   "source": [
    "print_array(std)"
   ]
  },
  {
   "cell_type": "code",
   "execution_count": 6,
   "metadata": {},
   "outputs": [
    {
     "name": "stdout",
     "output_type": "stream",
     "text": [
      "0.891\t0.253\t0.168\t0.016\t0.027\t0.091\t\n",
      "0.253\t0.871\t0.676\t0.030\t0.090\t0.100\t\n",
      "0.168\t0.676\t1.015\t0.044\t0.064\t0.080\t\n",
      "0.016\t0.030\t0.044\t0.962\t0.128\t0.105\t\n",
      "0.027\t0.090\t0.064\t0.128\t1.048\t0.140\t\n",
      "0.091\t0.100\t0.080\t0.105\t0.140\t0.312\t\n"
     ]
    }
   ],
   "source": [
    "print_array(mean + 2 * std)"
   ]
  },
  {
   "cell_type": "code",
   "execution_count": 7,
   "metadata": {},
   "outputs": [
    {
     "name": "stdout",
     "output_type": "stream",
     "text": [
      "0.809\t0.195\t0.119\t0.003\t0.009\t0.053\t\n",
      "0.195\t0.777\t0.606\t0.013\t0.056\t0.060\t\n",
      "0.119\t0.606\t0.944\t0.020\t0.035\t0.043\t\n",
      "0.003\t0.013\t0.020\t0.884\t0.085\t0.060\t\n",
      "0.009\t0.056\t0.035\t0.085\t1.008\t0.094\t\n",
      "0.053\t0.060\t0.043\t0.060\t0.094\t0.215\t\n"
     ]
    }
   ],
   "source": [
    "print_array(mean - 2 * std)"
   ]
  },
  {
   "attachments": {},
   "cell_type": "markdown",
   "metadata": {},
   "source": [
    "0.7139 0.1138 0.1253\n",
    "\n",
    "0.1138 0.6231 0.1760\n",
    "\n",
    "0.1253 0.1760 0.7576"
   ]
  }
 ],
 "metadata": {
  "kernelspec": {
   "display_name": "base",
   "language": "python",
   "name": "python3"
  },
  "language_info": {
   "codemirror_mode": {
    "name": "ipython",
    "version": 3
   },
   "file_extension": ".py",
   "mimetype": "text/x-python",
   "name": "python",
   "nbconvert_exporter": "python",
   "pygments_lexer": "ipython3",
   "version": "3.9.16"
  },
  "orig_nbformat": 4
 },
 "nbformat": 4,
 "nbformat_minor": 2
}
