{
 "cells": [
  {
   "cell_type": "code",
   "execution_count": 1,
   "metadata": {},
   "outputs": [],
   "source": [
    "import pandas as pd"
   ]
  },
  {
   "cell_type": "code",
   "execution_count": 6,
   "metadata": {},
   "outputs": [
    {
     "data": {
      "text/html": [
       "<div>\n",
       "<style scoped>\n",
       "    .dataframe tbody tr th:only-of-type {\n",
       "        vertical-align: middle;\n",
       "    }\n",
       "\n",
       "    .dataframe tbody tr th {\n",
       "        vertical-align: top;\n",
       "    }\n",
       "\n",
       "    .dataframe thead th {\n",
       "        text-align: right;\n",
       "    }\n",
       "</style>\n",
       "<table border=\"1\" class=\"dataframe\">\n",
       "  <thead>\n",
       "    <tr style=\"text-align: right;\">\n",
       "      <th></th>\n",
       "      <th>K</th>\n",
       "      <th>VI</th>\n",
       "      <th>type</th>\n",
       "      <th>num_edge_error</th>\n",
       "      <th>num_edge</th>\n",
       "      <th>edge_error_rate</th>\n",
       "      <th>num_ans_error</th>\n",
       "      <th>ans_error_rate</th>\n",
       "      <th>num_ans</th>\n",
       "    </tr>\n",
       "  </thead>\n",
       "  <tbody>\n",
       "    <tr>\n",
       "      <th>0</th>\n",
       "      <td>2</td>\n",
       "      <td>0.101662</td>\n",
       "      <td>I_2</td>\n",
       "      <td>4264</td>\n",
       "      <td>15154</td>\n",
       "      <td>0.281378</td>\n",
       "      <td>4264</td>\n",
       "      <td>0.281378</td>\n",
       "      <td>15154</td>\n",
       "    </tr>\n",
       "    <tr>\n",
       "      <th>1</th>\n",
       "      <td>2</td>\n",
       "      <td>0.000000</td>\n",
       "      <td>I_3</td>\n",
       "      <td>7290</td>\n",
       "      <td>30309</td>\n",
       "      <td>0.240523</td>\n",
       "      <td>4481</td>\n",
       "      <td>0.147844</td>\n",
       "      <td>10103</td>\n",
       "    </tr>\n",
       "  </tbody>\n",
       "</table>\n",
       "</div>"
      ],
      "text/plain": [
       "   K        VI type  num_edge_error  num_edge  edge_error_rate  num_ans_error  \\\n",
       "0  2  0.101662  I_2            4264     15154         0.281378           4264   \n",
       "1  2  0.000000  I_3            7290     30309         0.240523           4481   \n",
       "\n",
       "   ans_error_rate  num_ans  \n",
       "0        0.281378    15154  \n",
       "1        0.147844    10103  "
      ]
     },
     "execution_count": 6,
     "metadata": {},
     "output_type": "execute_result"
    }
   ],
   "source": [
    "file = \"data/number_of_clusters?N=450_p=0.7_r=0.15_q=0.25_mode=bycost.tsv\"\n",
    "df = pd.read_csv(file)\n",
    "df.head(2)"
   ]
  },
  {
   "cell_type": "code",
   "execution_count": 14,
   "metadata": {},
   "outputs": [
    {
     "data": {
      "text/plain": [
       "K\n",
       "2    0.071497\n",
       "3    0.399329\n",
       "4    1.091646\n",
       "5    1.996533\n",
       "6    2.811243\n",
       "7    3.478589\n",
       "Name: VI, dtype: float64"
      ]
     },
     "execution_count": 14,
     "metadata": {},
     "output_type": "execute_result"
    }
   ],
   "source": [
    "df[df.type == \"I_2\"].groupby(\"K\").VI.mean()"
   ]
  },
  {
   "cell_type": "code",
   "execution_count": 15,
   "metadata": {},
   "outputs": [
    {
     "data": {
      "text/plain": [
       "K\n",
       "2    0.018236\n",
       "3    0.079832\n",
       "4    0.170762\n",
       "5    0.273308\n",
       "6    0.099443\n",
       "7    0.063807\n",
       "Name: VI, dtype: float64"
      ]
     },
     "execution_count": 15,
     "metadata": {},
     "output_type": "execute_result"
    }
   ],
   "source": [
    "df[df.type == \"I_2\"].groupby(\"K\").VI.std()"
   ]
  }
 ],
 "metadata": {
  "kernelspec": {
   "display_name": "base",
   "language": "python",
   "name": "python3"
  },
  "language_info": {
   "codemirror_mode": {
    "name": "ipython",
    "version": 3
   },
   "file_extension": ".py",
   "mimetype": "text/x-python",
   "name": "python",
   "nbconvert_exporter": "python",
   "pygments_lexer": "ipython3",
   "version": "3.12.2"
  }
 },
 "nbformat": 4,
 "nbformat_minor": 2
}
